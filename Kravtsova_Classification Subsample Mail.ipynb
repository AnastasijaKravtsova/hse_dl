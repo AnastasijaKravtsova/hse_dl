{
 "cells": [
  {
   "cell_type": "code",
   "execution_count": null,
   "metadata": {
    "colab": {
     "base_uri": "https://localhost:8080/",
     "height": 493
    },
    "colab_type": "code",
    "id": "Y0fOWhqwW-AT",
    "outputId": "25f8f51c-5c01-430b-96d3-ab7cc6732cb8"
   },
   "outputs": [],
   "source": [
    "!pip install pandas\n",
    "!pip install torch\n",
    "!pip install nltk\n",
    "!pip install tqdm\n",
    "!pip install seaborn\n",
    "!pip install numpy\n",
    "!pip install sklearn"
   ]
  },
  {
   "cell_type": "code",
   "execution_count": 1,
   "metadata": {
    "colab": {
     "base_uri": "https://localhost:8080/",
     "height": 68
    },
    "colab_type": "code",
    "id": "u3wugeOHW-AV",
    "outputId": "b43d2dda-00b0-4594-f3ec-12c90d3ca3a6"
   },
   "outputs": [
    {
     "name": "stderr",
     "output_type": "stream",
     "text": [
      "[nltk_data] Downloading package punkt to /home/anastasia/nltk_data...\n",
      "[nltk_data]   Package punkt is already up-to-date!\n"
     ]
    },
    {
     "data": {
      "text/plain": [
       "True"
      ]
     },
     "execution_count": 1,
     "metadata": {},
     "output_type": "execute_result"
    }
   ],
   "source": [
    "import nltk\n",
    "nltk.download('punkt')"
   ]
  },
  {
   "cell_type": "markdown",
   "metadata": {
    "colab_type": "text",
    "id": "m9XIrxSmW-AX"
   },
   "source": [
    "# Скачиваем данные"
   ]
  },
  {
   "cell_type": "code",
   "execution_count": null,
   "metadata": {
    "colab": {
     "base_uri": "https://localhost:8080/",
     "height": 357
    },
    "colab_type": "code",
    "id": "ep1FB3IBW-AY",
    "outputId": "4aa6b38d-6a7f-42ee-9d67-505dd9eafbf8"
   },
   "outputs": [],
   "source": [
    "!wget https://github.com/BobaZooba/HSE-Deep-Learning-in-NLP-Course/blob/master/week_05/data/answers_subsample.csv?raw=true -O data.csv"
   ]
  },
  {
   "cell_type": "code",
   "execution_count": 2,
   "metadata": {
    "colab": {},
    "colab_type": "code",
    "id": "BWA7IClKW-Aa"
   },
   "outputs": [],
   "source": [
    "# если ругается на то, что нет wget\n",
    "# !apt-get install wget"
   ]
  },
  {
   "cell_type": "code",
   "execution_count": 3,
   "metadata": {
    "colab": {
     "base_uri": "https://localhost:8080/",
     "height": 68
    },
    "colab_type": "code",
    "id": "qJpFTPpsW-Ac",
    "outputId": "51cc54ce-81e5-4524-e4ff-e7e93f29bbd1"
   },
   "outputs": [
    {
     "name": "stdout",
     "output_type": "stream",
     "text": [
      "total 4621056\n",
      "-rw-r--r-- 1 anastasia anastasia      99282 окт 22 23:53  0.84_test.ipynb\n",
      "-rw-r--r-- 1 anastasia anastasia      70308 окт 20 21:56 'Attention from scratch.ipynb'\n",
      "-rw-r--r-- 1 anastasia anastasia 4536408847 окт 20 23:15  cc.ru.300.vec\n",
      "-rw-r--r-- 1 anastasia anastasia     100460 окт 23 00:36 'Classification Subsample Mail.ipynb'\n",
      "drwxr-xr-x 2 anastasia anastasia       4096 окт 20 20:01  data\n",
      "-rw-r--r-- 1 anastasia anastasia   28717126 окт 20 23:34  data.csv\n",
      "-rw-r--r-- 1 anastasia anastasia  155306374 окт 23 00:29  model.pt\n",
      "-rw-r--r-- 1 anastasia anastasia   11227212 окт 20 20:01  Transformer.pdf\n",
      "-rw-r--r-- 1 anastasia anastasia       1216 окт 20 21:06  Untitled.ipynb\n"
     ]
    }
   ],
   "source": [
    "!ls -l"
   ]
  },
  {
   "cell_type": "code",
   "execution_count": 4,
   "metadata": {
    "colab": {},
    "colab_type": "code",
    "id": "qmzaEwy9W-Ae"
   },
   "outputs": [],
   "source": [
    "import pandas as pd"
   ]
  },
  {
   "cell_type": "code",
   "execution_count": 5,
   "metadata": {
    "colab": {},
    "colab_type": "code",
    "id": "BbDKxq4EW-Ag"
   },
   "outputs": [],
   "source": [
    "data = pd.read_csv('data.csv')"
   ]
  },
  {
   "cell_type": "code",
   "execution_count": 6,
   "metadata": {
    "colab": {
     "base_uri": "https://localhost:8080/",
     "height": 1000
    },
    "colab_type": "code",
    "id": "hcAdsbS7W-Ai",
    "outputId": "6d64ff8f-f8a2-4c64-d593-f488cb18accd"
   },
   "outputs": [
    {
     "data": {
      "text/html": [
       "<div>\n",
       "<style scoped>\n",
       "    .dataframe tbody tr th:only-of-type {\n",
       "        vertical-align: middle;\n",
       "    }\n",
       "\n",
       "    .dataframe tbody tr th {\n",
       "        vertical-align: top;\n",
       "    }\n",
       "\n",
       "    .dataframe thead th {\n",
       "        text-align: right;\n",
       "    }\n",
       "</style>\n",
       "<table border=\"1\" class=\"dataframe\">\n",
       "  <thead>\n",
       "    <tr style=\"text-align: right;\">\n",
       "      <th></th>\n",
       "      <th>category</th>\n",
       "      <th>text</th>\n",
       "    </tr>\n",
       "  </thead>\n",
       "  <tbody>\n",
       "    <tr>\n",
       "      <th>0</th>\n",
       "      <td>business</td>\n",
       "      <td>Могут ли в россельхозбанке дать в залог норков...</td>\n",
       "    </tr>\n",
       "    <tr>\n",
       "      <th>1</th>\n",
       "      <td>law</td>\n",
       "      <td>Может ли срочник перевестись на контракт после...</td>\n",
       "    </tr>\n",
       "    <tr>\n",
       "      <th>2</th>\n",
       "      <td>business</td>\n",
       "      <td>Продажа недвижимости по ипотеки ? ( арестованы...</td>\n",
       "    </tr>\n",
       "    <tr>\n",
       "      <th>3</th>\n",
       "      <td>business</td>\n",
       "      <td>В чем смысл криптовалюты, какая от неё выгода ...</td>\n",
       "    </tr>\n",
       "    <tr>\n",
       "      <th>4</th>\n",
       "      <td>law</td>\n",
       "      <td>часть 1 статья 158 похитил телефон</td>\n",
       "    </tr>\n",
       "    <tr>\n",
       "      <th>...</th>\n",
       "      <td>...</td>\n",
       "      <td>...</td>\n",
       "    </tr>\n",
       "    <tr>\n",
       "      <th>237774</th>\n",
       "      <td>relax</td>\n",
       "      <td>елку нарядили? =)</td>\n",
       "    </tr>\n",
       "    <tr>\n",
       "      <th>237775</th>\n",
       "      <td>law</td>\n",
       "      <td>Имеется переработка при 75% ставки, отгулы не ...</td>\n",
       "    </tr>\n",
       "    <tr>\n",
       "      <th>237776</th>\n",
       "      <td>food</td>\n",
       "      <td>Попробовала варить рис с половиной кубика для ...</td>\n",
       "    </tr>\n",
       "    <tr>\n",
       "      <th>237777</th>\n",
       "      <td>food</td>\n",
       "      <td>Почему рекоменд... Почему рекомендуют есть фру...</td>\n",
       "    </tr>\n",
       "    <tr>\n",
       "      <th>237778</th>\n",
       "      <td>business</td>\n",
       "      <td>Подскажите какие риски бывают в семье среднест...</td>\n",
       "    </tr>\n",
       "  </tbody>\n",
       "</table>\n",
       "<p>237779 rows × 2 columns</p>\n",
       "</div>"
      ],
      "text/plain": [
       "        category                                               text\n",
       "0       business  Могут ли в россельхозбанке дать в залог норков...\n",
       "1            law  Может ли срочник перевестись на контракт после...\n",
       "2       business  Продажа недвижимости по ипотеки ? ( арестованы...\n",
       "3       business  В чем смысл криптовалюты, какая от неё выгода ...\n",
       "4            law                 часть 1 статья 158 похитил телефон\n",
       "...          ...                                                ...\n",
       "237774     relax                                  елку нарядили? =)\n",
       "237775       law  Имеется переработка при 75% ставки, отгулы не ...\n",
       "237776      food  Попробовала варить рис с половиной кубика для ...\n",
       "237777      food  Почему рекоменд... Почему рекомендуют есть фру...\n",
       "237778  business  Подскажите какие риски бывают в семье среднест...\n",
       "\n",
       "[237779 rows x 2 columns]"
      ]
     },
     "execution_count": 6,
     "metadata": {},
     "output_type": "execute_result"
    }
   ],
   "source": [
    "data"
   ]
  },
  {
   "cell_type": "code",
   "execution_count": 7,
   "metadata": {
    "colab": {
     "base_uri": "https://localhost:8080/",
     "height": 119
    },
    "colab_type": "code",
    "id": "90tXLjfsW-Aj",
    "outputId": "7a8b8a3a-a2cf-4272-bec9-b7b14d6365f5"
   },
   "outputs": [
    {
     "data": {
      "text/plain": [
       "law         29.793211\n",
       "relax       22.016242\n",
       "business    19.309527\n",
       "food        18.367055\n",
       "love        10.513965\n",
       "Name: category, dtype: float64"
      ]
     },
     "execution_count": 7,
     "metadata": {},
     "output_type": "execute_result"
    }
   ],
   "source": [
    "data.category.value_counts() * 100 / data.shape[0]"
   ]
  },
  {
   "cell_type": "markdown",
   "metadata": {
    "colab_type": "text",
    "id": "gfHbifWIW-Al"
   },
   "source": [
    "# Предобученные эмбеддинги\n",
    "[Источник](https://fasttext.cc/docs/en/crawl-vectors.html)  \n",
    "Вы можете взять любые word2vec подобные эмббединги. Если вы хотите использовать elmo, bert, etc сначала попробуйте с word2vec подобными эмббедингами, а потом можете перейти к более сложным моделям.  \n",
    "Ниже мы сначала скачиваем, а потом распоковываем эмбеддинги."
   ]
  },
  {
   "cell_type": "code",
   "execution_count": 8,
   "metadata": {
    "colab": {
     "base_uri": "https://localhost:8080/",
     "height": 204
    },
    "colab_type": "code",
    "id": "PVhCzM3LW-Al",
    "outputId": "7af5978e-d6ee-4180-a3fc-0662e4a68651"
   },
   "outputs": [],
   "source": [
    "!wget -O- https://dl.fbaipublicfiles.com/fasttext/vectors-crawl/cc.ru.300.vec.gz | gunzip > cc.ru.300.vec"
   ]
  },
  {
   "cell_type": "code",
   "execution_count": 9,
   "metadata": {
    "colab": {
     "base_uri": "https://localhost:8080/",
     "height": 85
    },
    "colab_type": "code",
    "id": "eJcT1qPZW-An",
    "outputId": "72496e7c-9994-4635-eb98-cc85c455c24b"
   },
   "outputs": [
    {
     "name": "stdout",
     "output_type": "stream",
     "text": [
      "total 4621056\n",
      "-rw-r--r-- 1 anastasia anastasia      99282 окт 22 23:53  0.84_test.ipynb\n",
      "-rw-r--r-- 1 anastasia anastasia      70308 окт 20 21:56 'Attention from scratch.ipynb'\n",
      "-rw-r--r-- 1 anastasia anastasia 4536408847 окт 20 23:15  cc.ru.300.vec\n",
      "-rw-r--r-- 1 anastasia anastasia     100460 окт 23 00:36 'Classification Subsample Mail.ipynb'\n",
      "drwxr-xr-x 2 anastasia anastasia       4096 окт 20 20:01  data\n",
      "-rw-r--r-- 1 anastasia anastasia   28717126 окт 20 23:34  data.csv\n",
      "-rw-r--r-- 1 anastasia anastasia  155306374 окт 23 00:29  model.pt\n",
      "-rw-r--r-- 1 anastasia anastasia   11227212 окт 20 20:01  Transformer.pdf\n",
      "-rw-r--r-- 1 anastasia anastasia       1216 окт 20 21:06  Untitled.ipynb\n"
     ]
    }
   ],
   "source": [
    "!ls -l"
   ]
  },
  {
   "cell_type": "code",
   "execution_count": 10,
   "metadata": {
    "colab": {},
    "colab_type": "code",
    "id": "M0lwyZUFW-Ap"
   },
   "outputs": [],
   "source": [
    "from nltk.tokenize import word_tokenize, wordpunct_tokenize\n",
    "from tqdm import tqdm"
   ]
  },
  {
   "cell_type": "code",
   "execution_count": 11,
   "metadata": {
    "colab": {},
    "colab_type": "code",
    "id": "QQpX51Y4W-Aq"
   },
   "outputs": [],
   "source": [
    "# потом можете добавить свою предобработку\n",
    "\n",
    "def process_text(text):\n",
    "    \n",
    "    words = wordpunct_tokenize(text.lower())\n",
    "    \n",
    "    return words"
   ]
  },
  {
   "cell_type": "code",
   "execution_count": 12,
   "metadata": {
    "colab": {
     "base_uri": "https://localhost:8080/",
     "height": 34
    },
    "colab_type": "code",
    "id": "HyI2erCDW-Ar",
    "outputId": "1ca974ac-c9a5-4832-fff5-173b7a200781"
   },
   "outputs": [
    {
     "name": "stderr",
     "output_type": "stream",
     "text": [
      "100%|██████████| 237779/237779 [00:01<00:00, 157489.31it/s]\n"
     ]
    }
   ],
   "source": [
    "word2freq = {}\n",
    "lengths = []\n",
    "\n",
    "for text in tqdm(data.text):\n",
    "    \n",
    "    words = process_text(text)\n",
    "    \n",
    "    lengths.append(len(words))\n",
    "    \n",
    "    for word in words:\n",
    "        \n",
    "        if word in word2freq:\n",
    "            word2freq[word] += 1\n",
    "        else:\n",
    "            word2freq[word] = 1"
   ]
  },
  {
   "cell_type": "code",
   "execution_count": 13,
   "metadata": {
    "colab": {},
    "colab_type": "code",
    "id": "FGzDm0ptW-At"
   },
   "outputs": [],
   "source": [
    "import seaborn as sns\n",
    "from matplotlib import pyplot as plt"
   ]
  },
  {
   "cell_type": "code",
   "execution_count": 14,
   "metadata": {
    "colab": {
     "base_uri": "https://localhost:8080/",
     "height": 639
    },
    "colab_type": "code",
    "id": "iZBR-aYDW-Av",
    "outputId": "1b3961dc-1d06-4b61-aab5-bf2233eb2c5a"
   },
   "outputs": [
    {
     "data": {
      "text/plain": [
       "<matplotlib.axes._subplots.AxesSubplot at 0x7f58b282c5c0>"
      ]
     },
     "execution_count": 14,
     "metadata": {},
     "output_type": "execute_result"
    },
    {
     "data": {
      "image/png": "[encoded data removed]",
      "text/plain": [
       "<Figure size 1152x720 with 1 Axes>"
      ]
     },
     "metadata": {
      "needs_background": "light"
     },
     "output_type": "display_data"
    }
   ],
   "source": [
    "plt.figure(figsize=(16, 10))\n",
    "plt.title('Распределение длин слов в текстах')\n",
    "plt.xlabel('Длина предложения')\n",
    "plt.ylabel('Доля')\n",
    "sns.distplot(lengths)"
   ]
  },
  {
   "cell_type": "code",
   "execution_count": 15,
   "metadata": {
    "colab": {
     "base_uri": "https://localhost:8080/",
     "height": 34
    },
    "colab_type": "code",
    "id": "OBzmPqXIW-Aw",
    "outputId": "deac9aa2-f22f-4fb5-90c8-aab978363606"
   },
   "outputs": [
    {
     "data": {
      "text/plain": [
       "'99.66 % наших текстов входят в промежуток от 3 до 32 слов'"
      ]
     },
     "execution_count": 15,
     "metadata": {},
     "output_type": "execute_result"
    }
   ],
   "source": [
    "upper_threshold = 32\n",
    "lower_threshold = 3\n",
    "\n",
    "correct_percent = len([sent_len for sent_len in lengths \n",
    "                       if sent_len <= upper_threshold and sent_len >= lower_threshold]) * 100 / len(lengths)\n",
    "\n",
    "'{:.2f} % наших текстов входят в промежуток от {} до {} слов'.format(correct_percent, lower_threshold, upper_threshold)"
   ]
  },
  {
   "cell_type": "code",
   "execution_count": 16,
   "metadata": {
    "colab": {
     "base_uri": "https://localhost:8080/",
     "height": 34
    },
    "colab_type": "code",
    "id": "GbSer_0bW-Ay",
    "outputId": "db09758d-c1c4-4d10-b56d-22e2eb133d15"
   },
   "outputs": [
    {
     "data": {
      "text/plain": [
       "152179"
      ]
     },
     "execution_count": 16,
     "metadata": {},
     "output_type": "execute_result"
    }
   ],
   "source": [
    "len(word2freq)"
   ]
  },
  {
   "cell_type": "code",
   "execution_count": 17,
   "metadata": {
    "colab": {
     "base_uri": "https://localhost:8080/",
     "height": 34
    },
    "colab_type": "code",
    "id": "szg6XD3EW-Az",
    "outputId": "22f5458f-697c-4885-e1aa-331df021ec6e"
   },
   "outputs": [
    {
     "data": {
      "text/plain": [
       "'114332 слов, которые встречались 3 и менее раз'"
      ]
     },
     "execution_count": 17,
     "metadata": {},
     "output_type": "execute_result"
    }
   ],
   "source": [
    "'{} слов, которые встречались 3 и менее раз'.format(len([word for word in word2freq if word2freq[word] <= 3]))"
   ]
  },
  {
   "cell_type": "markdown",
   "metadata": {
    "colab_type": "text",
    "id": "bZbOg0FqW-A1"
   },
   "source": [
    "# Читаем файл с эмбеддингами\n",
    "### Этот файл с 300 числами для 2 000 000 слов и он может не влезть в память\n",
    "Поэтому прочитаем только те слова, которые мы знаем"
   ]
  },
  {
   "cell_type": "code",
   "execution_count": 18,
   "metadata": {
    "colab": {},
    "colab_type": "code",
    "id": "T1Yx_qr-W-A2"
   },
   "outputs": [],
   "source": [
    "import numpy as np"
   ]
  },
  {
   "cell_type": "code",
   "execution_count": 19,
   "metadata": {
    "colab": {
     "base_uri": "https://localhost:8080/",
     "height": 34
    },
    "colab_type": "code",
    "id": "BLEgfnaWW-A4",
    "outputId": "e7a095ea-ae01-4046-897e-71aa0b9dcd17"
   },
   "outputs": [
    {
     "name": "stderr",
     "output_type": "stream",
     "text": [
      "Read word2vec: 100%|██████████| 2000000/2000000 [00:47<00:00, 42488.26it/s]\n"
     ]
    }
   ],
   "source": [
    "word2index = {'PAD': 0}\n",
    "vectors = []\n",
    "    \n",
    "word2vec_file = open('cc.ru.300.vec')\n",
    "    \n",
    "n_words, embedding_dim = word2vec_file.readline().split()\n",
    "n_words, embedding_dim = int(n_words), int(embedding_dim)\n",
    "\n",
    "# Zero vector for PAD\n",
    "vectors.append(np.zeros((1, embedding_dim)))\n",
    "\n",
    "progress_bar = tqdm(desc='Read word2vec', total=n_words)\n",
    "\n",
    "while True:\n",
    "\n",
    "    line = word2vec_file.readline().strip()\n",
    "\n",
    "    if not line:\n",
    "        break\n",
    "        \n",
    "    current_parts = line.split()\n",
    "\n",
    "    current_word = ' '.join(current_parts[:-embedding_dim])\n",
    "\n",
    "    if current_word in word2freq:\n",
    "\n",
    "        word2index[current_word] = len(word2index)\n",
    "\n",
    "        current_vectors = current_parts[-embedding_dim:]\n",
    "        current_vectors = np.array(list(map(float, current_vectors)))\n",
    "        current_vectors = np.expand_dims(current_vectors, 0)\n",
    "\n",
    "        vectors.append(current_vectors)\n",
    "\n",
    "    progress_bar.update(1)\n",
    "\n",
    "progress_bar.close()\n",
    "\n",
    "word2vec_file.close()\n",
    "\n",
    "vectors = np.concatenate(vectors)"
   ]
  },
  {
   "cell_type": "code",
   "execution_count": 20,
   "metadata": {
    "colab": {
     "base_uri": "https://localhost:8080/",
     "height": 34
    },
    "colab_type": "code",
    "id": "AYJMzgpnW-A7",
    "outputId": "139a7321-f096-4642-945e-a1a0f14a403e"
   },
   "outputs": [
    {
     "data": {
      "text/plain": [
       "117619"
      ]
     },
     "execution_count": 20,
     "metadata": {},
     "output_type": "execute_result"
    }
   ],
   "source": [
    "len(word2index)"
   ]
  },
  {
   "cell_type": "code",
   "execution_count": 21,
   "metadata": {
    "colab": {
     "base_uri": "https://localhost:8080/",
     "height": 187
    },
    "colab_type": "code",
    "id": "KE06fafiW-A8",
    "outputId": "17199a11-f0d4-4bff-a4c8-88bb284e0290"
   },
   "outputs": [
    {
     "name": "stdout",
     "output_type": "stream",
     "text": [
      "Мы не знаем 2.50 % слов в датасете\n",
      "Количество неизвестных слов 34561 из 152179, то есть 22.71 % уникальных слов в словаре\n",
      "В среднем каждое встречается 1.98 раз\n",
      "\n",
      "Топ 5 невошедших слов:\n",
      "??? с количеством вхождениий - 3641\n",
      "?? с количеством вхождениий - 2448\n",
      "!!! с количеством вхождениий - 2214\n",
      "?) с количеством вхождениий - 2069\n",
      "\"? с количеством вхождениий - 1429\n"
     ]
    }
   ],
   "source": [
    "unk_words = [word for word in word2freq if word not in word2index]\n",
    "unk_counts = [word2freq[word] for word in unk_words]\n",
    "n_unk = sum(unk_counts) * 100 / sum(list(word2freq.values()))\n",
    "\n",
    "sub_sample_unk_words = {word: word2freq[word] for word in unk_words}\n",
    "sorted_unk_words = list(sorted(sub_sample_unk_words, key=lambda x: sub_sample_unk_words[x], reverse=True))\n",
    "\n",
    "print('Мы не знаем {:.2f} % слов в датасете'.format(n_unk))\n",
    "print('Количество неизвестных слов {} из {}, то есть {:.2f} % уникальных слов в словаре'.format(\n",
    "    len(unk_words), len(word2freq), len(unk_words) * 100 / len(word2freq)))\n",
    "print('В среднем каждое встречается {:.2f} раз'.format(np.mean(unk_counts)))\n",
    "print()\n",
    "print('Топ 5 невошедших слов:')\n",
    "\n",
    "for i in range(5):\n",
    "    print(sorted_unk_words[i], 'с количеством вхождениий -', word2freq[sorted_unk_words[i]])"
   ]
  },
  {
   "cell_type": "markdown",
   "metadata": {
    "colab_type": "text",
    "id": "GFPNApUjW-A9"
   },
   "source": [
    "# Потеря 2.5 % слов в датасете\n",
    "Эта ситуация не то, чтобы сильно плохая, в учебных целях нормально, к тому же в среднем они редко встречаются. Вы можете поиграть с предобработкой, но советую не заигрываться. Оценивается другое."
   ]
  },
  {
   "cell_type": "code",
   "execution_count": 22,
   "metadata": {
    "colab": {},
    "colab_type": "code",
    "id": "_fo1fB6JW-A-"
   },
   "outputs": [],
   "source": [
    "import torch"
   ]
  },
  {
   "cell_type": "markdown",
   "metadata": {
    "colab_type": "text",
    "id": "pEKAjCg3W-BA"
   },
   "source": [
    "- 128 - размер батча\n",
    "- 64 - количество слов\n",
    "- 1024 - эмбеддинг слова"
   ]
  },
  {
   "cell_type": "code",
   "execution_count": 23,
   "metadata": {
    "colab": {},
    "colab_type": "code",
    "id": "D19pDyQBW-BA"
   },
   "outputs": [],
   "source": [
    "x = torch.rand(128, 64, 1024)"
   ]
  },
  {
   "cell_type": "code",
   "execution_count": 24,
   "metadata": {
    "colab": {},
    "colab_type": "code",
    "id": "Yxsxr7edW-BB"
   },
   "outputs": [],
   "source": [
    "lstm = torch.nn.LSTM(1024, 512, batch_first=True)"
   ]
  },
  {
   "cell_type": "raw",
   "metadata": {
    "colab": {
     "base_uri": "https://localhost:8080/",
     "height": 34
    },
    "colab_type": "code",
    "id": "TZy0lKr2W-BC",
    "outputId": "4552693b-8e30-4981-ba07-a8c0bd37a6c8"
   },
   "source": [
    "%%timeit\n",
    "\n",
    "pred = lstm(x)"
   ]
  },
  {
   "cell_type": "code",
   "execution_count": 25,
   "metadata": {},
   "outputs": [
    {
     "data": {
      "text/plain": [
       "(torch.Size([128, 64, 512]),\n",
       " torch.Size([1, 128, 512]),\n",
       " torch.Size([1, 128, 512]))"
      ]
     },
     "execution_count": 25,
     "metadata": {},
     "output_type": "execute_result"
    }
   ],
   "source": [
    "y, (hn, cn) = lstm(x)\n",
    "y.shape, hn.shape, cn.shape"
   ]
  },
  {
   "cell_type": "markdown",
   "metadata": {
    "colab_type": "text",
    "id": "s611e34SW-BE"
   },
   "source": [
    "# А что GPU?"
   ]
  },
  {
   "cell_type": "code",
   "execution_count": 26,
   "metadata": {
    "colab": {
     "base_uri": "https://localhost:8080/",
     "height": 51
    },
    "colab_type": "code",
    "id": "xjFlWdgtW-BE",
    "outputId": "61569b67-589c-4507-81ff-dffae146879c"
   },
   "outputs": [
    {
     "name": "stdout",
     "output_type": "stream",
     "text": [
      "Доступна ли видеокарта: True\n",
      "Если недоступна, поменяйте runtime, если в колабе\n"
     ]
    }
   ],
   "source": [
    "print('Доступна ли видеокарта:', torch.cuda.is_available())\n",
    "print('Если недоступна, поменяйте runtime, если в колабе')"
   ]
  },
  {
   "cell_type": "code",
   "execution_count": 27,
   "metadata": {
    "colab": {},
    "colab_type": "code",
    "id": "jaMMD5CDW-BG"
   },
   "outputs": [],
   "source": [
    "# универсальных способ задать device\n",
    "device = torch.device('cuda') if torch.cuda.is_available() else torch.device('cpu')\n",
    "# если доступна gpu, то давайте ее использовать, но в этом задании должны использовать"
   ]
  },
  {
   "cell_type": "code",
   "execution_count": 28,
   "metadata": {
    "colab": {},
    "colab_type": "code",
    "id": "GeQCiSYdW-BH"
   },
   "outputs": [],
   "source": [
    "# перенесли x на gpu\n",
    "x_gpu = x.to(device)"
   ]
  },
  {
   "cell_type": "code",
   "execution_count": 29,
   "metadata": {
    "colab": {},
    "colab_type": "code",
    "id": "S_qUdMcbW-BJ"
   },
   "outputs": [],
   "source": [
    "# зададим lstm на gpu\n",
    "lstm_gpu = torch.nn.LSTM(1024, 512, batch_first=True)\n",
    "lstm_gpu = lstm_gpu.to(device)"
   ]
  },
  {
   "cell_type": "raw",
   "metadata": {
    "colab": {
     "base_uri": "https://localhost:8080/",
     "height": 34
    },
    "colab_type": "code",
    "id": "hSUQmRgtW-BK",
    "outputId": "43f9de39-8e7c-4e40-d5ba-6ac83e12d8d3"
   },
   "source": [
    "%%timeit\n",
    "\n",
    "pred = lstm_gpu(x_gpu)"
   ]
  },
  {
   "cell_type": "markdown",
   "metadata": {
    "colab_type": "text",
    "id": "gPvqNWkQW-BM"
   },
   "source": [
    "# У меня на 1070 TI скорость уменьшилась с 381мс до 41мс, то есть в 9.29 раз"
   ]
  },
  {
   "cell_type": "code",
   "execution_count": 30,
   "metadata": {
    "colab": {},
    "colab_type": "code",
    "id": "FaPKGO5aW-BN"
   },
   "outputs": [],
   "source": [
    "# если у нас модель на гпу, а то, что мы туда подаем нет, то работать не будет\n",
    "# справедлива и обратная ситуация\n",
    "\n",
    "# выскочит ошибка\n",
    "# посмотрите на нее, возможно, вы еще встретитесь\n",
    "# pred = lstm_gpu(x)"
   ]
  },
  {
   "cell_type": "markdown",
   "metadata": {
    "colab_type": "text",
    "id": "9NX5HHDOW-BO"
   },
   "source": [
    "# Важные и не очень интуитивные моменты про LSTM и CNN в торче"
   ]
  },
  {
   "cell_type": "markdown",
   "metadata": {
    "colab_type": "text",
    "id": "zKr22rklW-BP"
   },
   "source": [
    "По умолчанию LSTM принимает данные с такой размерностью:\n",
    "```python\n",
    "(seq_len, batch, input_size)\n",
    "```\n",
    "Сделано это с целью оптимизации на более низком уровне.  \n",
    "Мы оперируем такими объектами:\n",
    "```python\n",
    "(batch, seq_len, input_size)\n",
    "```\n",
    "Чтобы LSTM у нас заработала правильно, мы можем либо передать параметр ```batch_first=True``` во время инициализации слоя,\n",
    "либо транспонировать (поменять) первую и вторую размерность у нашего x перед подачей в слой.  \n",
    "[Подробнее про LSTM](https://pytorch.org/docs/stable/nn.html#lstm)"
   ]
  },
  {
   "cell_type": "markdown",
   "metadata": {
    "colab_type": "text",
    "id": "Bny8SvCgW-BQ"
   },
   "source": [
    "- 128 - размер батча\n",
    "- 64 - количество слов\n",
    "- 1024 - эмбеддинг слова"
   ]
  },
  {
   "cell_type": "code",
   "execution_count": 31,
   "metadata": {
    "colab": {},
    "colab_type": "code",
    "id": "vc-bLok2W-BQ"
   },
   "outputs": [],
   "source": [
    "# первый способ\n",
    "lstm = torch.nn.LSTM(1024, 512, batch_first=True)\n",
    "\n",
    "pred, mem = lstm(x)"
   ]
  },
  {
   "cell_type": "code",
   "execution_count": 32,
   "metadata": {
    "colab": {
     "base_uri": "https://localhost:8080/",
     "height": 34
    },
    "colab_type": "code",
    "id": "OHpit-1tW-BR",
    "outputId": "3a732a47-dabf-43ba-8108-5423e185f61b"
   },
   "outputs": [
    {
     "data": {
      "text/plain": [
       "torch.Size([128, 64, 512])"
      ]
     },
     "execution_count": 32,
     "metadata": {},
     "output_type": "execute_result"
    }
   ],
   "source": [
    "pred.shape"
   ]
  },
  {
   "cell_type": "code",
   "execution_count": 33,
   "metadata": {
    "colab": {},
    "colab_type": "code",
    "id": "ru_WzGSJW-BS"
   },
   "outputs": [],
   "source": [
    "lstm = torch.nn.LSTM(1024, 512)\n",
    "\n",
    "# меняем размерность batch и seq_len местами\n",
    "x_transposed = x.transpose(0, 1)\n",
    "pred_transposed, mem = lstm(x_transposed)"
   ]
  },
  {
   "cell_type": "code",
   "execution_count": 34,
   "metadata": {
    "colab": {
     "base_uri": "https://localhost:8080/",
     "height": 34
    },
    "colab_type": "code",
    "id": "NHdBavTWW-BT",
    "outputId": "4bcda1ad-f185-4857-e79a-cbfec9979bb6"
   },
   "outputs": [
    {
     "data": {
      "text/plain": [
       "torch.Size([64, 128, 512])"
      ]
     },
     "execution_count": 34,
     "metadata": {},
     "output_type": "execute_result"
    }
   ],
   "source": [
    "# у нас все еще осталась размерность (seq_len, batch, input_size)\n",
    "pred_transposed.shape"
   ]
  },
  {
   "cell_type": "code",
   "execution_count": 35,
   "metadata": {
    "colab": {
     "base_uri": "https://localhost:8080/",
     "height": 34
    },
    "colab_type": "code",
    "id": "Rcxv55j7W-BV",
    "outputId": "098c1f8d-d8c5-42ee-b5cc-2c695839f94f"
   },
   "outputs": [
    {
     "data": {
      "text/plain": [
       "torch.Size([128, 64, 512])"
      ]
     },
     "execution_count": 35,
     "metadata": {},
     "output_type": "execute_result"
    }
   ],
   "source": [
    "# просто транспонируем еще раз\n",
    "pred = pred_transposed.transpose(0, 1)\n",
    "pred.shape"
   ]
  },
  {
   "cell_type": "markdown",
   "metadata": {
    "colab_type": "text",
    "id": "PmJt6cqkW-BW"
   },
   "source": [
    "## Conv1d & MaxPool1d\n",
    "Примерно такая же ситуация происходит со сверточными слоями и пулингами.  \n",
    "1d реализация как раз для текстов, в ней матрица-фильтр ходит только по одной размерности.  \n",
    "[Подробнее про CNN](https://pytorch.org/docs/stable/nn.html#conv1d)  \n",
    "[Подробнее про пулинг](https://pytorch.org/docs/stable/nn.html#maxpool1d)  \n",
    "Ожидается такая размерность:\n",
    "```python\n",
    "(batch, input_size, seq_len)\n",
    "```\n",
    "Мы все еще хоти подавать такую размерность:\n",
    "```python\n",
    "(batch, seq_len, input_size)\n",
    "```\n",
    "В случае со свертками и пулингами у нас есть вариант только транспонировать x перед подачей и транспонировать полученный результат. Обратите внимание, что транспонируем мы первую и вторую размерность (индексация с нуля)."
   ]
  },
  {
   "cell_type": "code",
   "execution_count": 36,
   "metadata": {
    "colab": {
     "base_uri": "https://localhost:8080/",
     "height": 34
    },
    "colab_type": "code",
    "id": "TyM8Xl24W-BX",
    "outputId": "2a5512ca-bc14-43f1-804b-e71df3a7ad7e"
   },
   "outputs": [
    {
     "data": {
      "text/plain": [
       "torch.Size([128, 64, 1024])"
      ]
     },
     "execution_count": 36,
     "metadata": {},
     "output_type": "execute_result"
    }
   ],
   "source": [
    "x.shape"
   ]
  },
  {
   "cell_type": "markdown",
   "metadata": {
    "colab_type": "text",
    "id": "grPNMjEZW-BY"
   },
   "source": [
    "- 128 - размер батча\n",
    "- 64 - количество слов\n",
    "- 1024 - эмбеддинг слова"
   ]
  },
  {
   "cell_type": "code",
   "execution_count": 37,
   "metadata": {
    "colab": {},
    "colab_type": "code",
    "id": "btJ-ApiOW-BY"
   },
   "outputs": [],
   "source": [
    "# in_channels - размер входных эмбеддингов\n",
    "# out_channels - количество/какой размер эмбеддингов мы хотим получить\n",
    "# kernel_size - размер окна/н-граммы\n",
    "cnn = torch.nn.Conv1d(in_channels=1024, out_channels=512, kernel_size=3)"
   ]
  },
  {
   "cell_type": "code",
   "execution_count": 38,
   "metadata": {
    "colab": {},
    "colab_type": "code",
    "id": "QIYff7YyW-Bb"
   },
   "outputs": [],
   "source": [
    "# выпадет ошибка, посмотрите какая\n",
    "# pred = cnn(x)"
   ]
  },
  {
   "cell_type": "code",
   "execution_count": 39,
   "metadata": {
    "colab": {
     "base_uri": "https://localhost:8080/",
     "height": 34
    },
    "colab_type": "code",
    "id": "7tVn6YKLW-Bd",
    "outputId": "7a1a5f4c-b44f-4ed6-f90c-a9d00f78dfe6"
   },
   "outputs": [
    {
     "data": {
      "text/plain": [
       "torch.Size([128, 1024, 64])"
      ]
     },
     "execution_count": 39,
     "metadata": {},
     "output_type": "execute_result"
    }
   ],
   "source": [
    "x_transposed = x.transpose(1, 2)\n",
    "x_transposed.shape\n",
    "# перевели в (batch, input_size, seq_len)"
   ]
  },
  {
   "cell_type": "code",
   "execution_count": 40,
   "metadata": {
    "colab": {
     "base_uri": "https://localhost:8080/",
     "height": 34
    },
    "colab_type": "code",
    "id": "2N4w6-iWW-Be",
    "outputId": "bf29af13-5bd4-4882-f60f-b01575b100e8"
   },
   "outputs": [
    {
     "data": {
      "text/plain": [
       "torch.Size([128, 512, 62])"
      ]
     },
     "execution_count": 40,
     "metadata": {},
     "output_type": "execute_result"
    }
   ],
   "source": [
    "pred_transposed = cnn(x_transposed)\n",
    "pred_transposed.shape\n",
    "# осталась разрмерность (batch, output_size, seq_len)"
   ]
  },
  {
   "cell_type": "code",
   "execution_count": 41,
   "metadata": {
    "colab": {
     "base_uri": "https://localhost:8080/",
     "height": 34
    },
    "colab_type": "code",
    "id": "7-C3_phaW-Bf",
    "outputId": "2ce7a78f-5492-404a-aeb5-2911386734d4"
   },
   "outputs": [
    {
     "data": {
      "text/plain": [
       "torch.Size([128, 62, 512])"
      ]
     },
     "execution_count": 41,
     "metadata": {},
     "output_type": "execute_result"
    }
   ],
   "source": [
    "# переведем обратно в (batch, seq_len, input_size)\n",
    "pred = pred_transposed.transpose(1, 2)\n",
    "pred.shape"
   ]
  },
  {
   "cell_type": "markdown",
   "metadata": {
    "colab_type": "text",
    "id": "kzxDpueLW-Bh"
   },
   "source": [
    "# Еще важный момент про LSTM\n",
    "\n",
    "The input can also be a packed variable length sequence. See [torch.nn.utils.rnn.pack_padded_sequence()](https://pytorch.org/docs/stable/nn.html#torch.nn.utils.rnn.pack_padded_sequence) or [torch.nn.utils.rnn.pack_sequence()](https://pytorch.org/docs/stable/nn.html#torch.nn.utils.rnn.pack_sequence) for details.\n",
    "\n",
    "Это внутренняя конструкция торча, которая позволяет не читать токен ```PAD```, но все еще работать с батчами. То есть внутри батча мы можем передать лстмке, что у нас данные переменной длины. Не забудьте что на выход отдается [torch.nn.utils.rnn.PackedSequence](https://pytorch.org/docs/stable/nn.html#torch.nn.utils.rnn.PackedSequence)."
   ]
  },
  {
   "cell_type": "markdown",
   "metadata": {
    "colab_type": "text",
    "id": "stBQ3yhqW-Bi"
   },
   "source": [
    "# Подготовим данные в DataLoader"
   ]
  },
  {
   "cell_type": "code",
   "execution_count": 42,
   "metadata": {
    "colab": {},
    "colab_type": "code",
    "id": "vPX_m5M4W-Bi"
   },
   "outputs": [],
   "source": [
    "from torch.utils.data import Dataset, DataLoader"
   ]
  },
  {
   "cell_type": "code",
   "execution_count": 43,
   "metadata": {
    "colab": {
     "base_uri": "https://localhost:8080/",
     "height": 34
    },
    "colab_type": "code",
    "id": "hV76BdN0W-Bj",
    "outputId": "17293d63-95e9-4315-8edf-6338c314a555"
   },
   "outputs": [
    {
     "data": {
      "text/plain": [
       "False"
      ]
     },
     "execution_count": 43,
     "metadata": {},
     "output_type": "execute_result"
    }
   ],
   "source": [
    "'UNK' in word2index"
   ]
  },
  {
   "cell_type": "code",
   "execution_count": 44,
   "metadata": {
    "colab": {
     "base_uri": "https://localhost:8080/",
     "height": 204
    },
    "colab_type": "code",
    "id": "INB_dPAnW-Bk",
    "outputId": "3d3c6091-5f58-4376-a85f-5086d1b093dd"
   },
   "outputs": [
    {
     "data": {
      "text/html": [
       "<div>\n",
       "<style scoped>\n",
       "    .dataframe tbody tr th:only-of-type {\n",
       "        vertical-align: middle;\n",
       "    }\n",
       "\n",
       "    .dataframe tbody tr th {\n",
       "        vertical-align: top;\n",
       "    }\n",
       "\n",
       "    .dataframe thead th {\n",
       "        text-align: right;\n",
       "    }\n",
       "</style>\n",
       "<table border=\"1\" class=\"dataframe\">\n",
       "  <thead>\n",
       "    <tr style=\"text-align: right;\">\n",
       "      <th></th>\n",
       "      <th>category</th>\n",
       "      <th>text</th>\n",
       "    </tr>\n",
       "  </thead>\n",
       "  <tbody>\n",
       "    <tr>\n",
       "      <th>0</th>\n",
       "      <td>business</td>\n",
       "      <td>Могут ли в россельхозбанке дать в залог норков...</td>\n",
       "    </tr>\n",
       "    <tr>\n",
       "      <th>1</th>\n",
       "      <td>law</td>\n",
       "      <td>Может ли срочник перевестись на контракт после...</td>\n",
       "    </tr>\n",
       "    <tr>\n",
       "      <th>2</th>\n",
       "      <td>business</td>\n",
       "      <td>Продажа недвижимости по ипотеки ? ( арестованы...</td>\n",
       "    </tr>\n",
       "    <tr>\n",
       "      <th>3</th>\n",
       "      <td>business</td>\n",
       "      <td>В чем смысл криптовалюты, какая от неё выгода ...</td>\n",
       "    </tr>\n",
       "    <tr>\n",
       "      <th>4</th>\n",
       "      <td>law</td>\n",
       "      <td>часть 1 статья 158 похитил телефон</td>\n",
       "    </tr>\n",
       "  </tbody>\n",
       "</table>\n",
       "</div>"
      ],
      "text/plain": [
       "   category                                               text\n",
       "0  business  Могут ли в россельхозбанке дать в залог норков...\n",
       "1       law  Может ли срочник перевестись на контракт после...\n",
       "2  business  Продажа недвижимости по ипотеки ? ( арестованы...\n",
       "3  business  В чем смысл криптовалюты, какая от неё выгода ...\n",
       "4       law                 часть 1 статья 158 похитил телефон"
      ]
     },
     "execution_count": 44,
     "metadata": {},
     "output_type": "execute_result"
    }
   ],
   "source": [
    "data.head()"
   ]
  },
  {
   "cell_type": "markdown",
   "metadata": {
    "colab_type": "text",
    "id": "1qv1mKAeW-Bl"
   },
   "source": [
    "# Замапим категории в индексы"
   ]
  },
  {
   "cell_type": "code",
   "execution_count": 45,
   "metadata": {
    "colab": {},
    "colab_type": "code",
    "id": "iHeFzZe1W-Bl"
   },
   "outputs": [],
   "source": [
    "cat_mapper = {cat: n for n, cat in enumerate(data.category.unique())}"
   ]
  },
  {
   "cell_type": "code",
   "execution_count": 46,
   "metadata": {
    "colab": {
     "base_uri": "https://localhost:8080/",
     "height": 34
    },
    "colab_type": "code",
    "id": "X3x9QhXYW-Bn",
    "outputId": "16397dfa-a09c-464c-becd-525afda7c1cb"
   },
   "outputs": [
    {
     "data": {
      "text/plain": [
       "{'business': 0, 'law': 1, 'love': 2, 'relax': 3, 'food': 4}"
      ]
     },
     "execution_count": 46,
     "metadata": {},
     "output_type": "execute_result"
    }
   ],
   "source": [
    "cat_mapper"
   ]
  },
  {
   "cell_type": "code",
   "execution_count": 47,
   "metadata": {
    "colab": {},
    "colab_type": "code",
    "id": "ef--8SWbW-Bo"
   },
   "outputs": [],
   "source": [
    "data.category = data.category.map(cat_mapper)"
   ]
  },
  {
   "cell_type": "markdown",
   "metadata": {
    "colab_type": "text",
    "id": "vc48ALg_W-Bp"
   },
   "source": [
    "# Читалка данных"
   ]
  },
  {
   "cell_type": "markdown",
   "metadata": {},
   "source": [
    "## Что происходит ниже\n",
    "1. Мы задаем x_data, y_data (таргеты), word2index (маппер из слова в индекс слова), sequence_length (максимальная длина последовательности, если больше, ограничить ею), pad_token (токен паддинга и задаем его индекс pad_index).\n",
    "1. Загружаем данные:\n",
    "    1. Проходимся по датасету\n",
    "    1. Предобрабатываем каждый текст в датасете\n",
    "    1. Индексируем его\n",
    "1. Когда нам нужно достать пример из датасета мы берем индексированный ```x``` и соответствующий этому индексу ```y```, наш ```x``` также паддим (или ограничиваем длину) и переводим в ```torch.Tensor(x).long()```. Для ```y``` этого делать не потребуется, в dataloader'е таргеты преобразуются в тензор сами.\n",
    "    \n",
    "## Что нужно сделать здесь\n",
    "1. Дописать индексатор текста\n",
    "1. Дописать паддинг текста\n",
    "1. __*Опционально:*__ добавить что-то в предобработку"
   ]
  },
  {
   "cell_type": "code",
   "execution_count": 48,
   "metadata": {},
   "outputs": [],
   "source": [
    "from typing import List"
   ]
  },
  {
   "cell_type": "code",
   "execution_count": 49,
   "metadata": {
    "colab": {},
    "colab_type": "code",
    "id": "ZkX8SC_sW-Bp"
   },
   "outputs": [],
   "source": [
    "class WordData(Dataset):\n",
    "    \n",
    "    def __init__(self, x_data, y_data, word2index, sequence_length=32, pad_token='PAD', verbose=True):\n",
    "        \n",
    "        super().__init__()\n",
    "        \n",
    "        self.x_data = []\n",
    "        self.y_data = []\n",
    "        \n",
    "        self.word2index = word2index\n",
    "        self.sequence_length = sequence_length\n",
    "        \n",
    "        self.pad_token = pad_token\n",
    "        self.pad_index = self.word2index[self.pad_token]\n",
    "        \n",
    "        self.load(x_data, y_data, verbose=verbose)\n",
    "        \n",
    "    @staticmethod\n",
    "    def process_text(text: str):\n",
    "        \n",
    "        # Место для вашей предобработки\n",
    "    \n",
    "        words = wordpunct_tokenize(text.lower())\n",
    "\n",
    "        return words\n",
    "        \n",
    "    def load(self, data, y_data, verbose=True):\n",
    "        \n",
    "        data_iterator = tqdm(data, desc='Loading data', disable=not verbose)\n",
    "        \n",
    "        for text, y in zip(data_iterator, y_data):\n",
    "            \n",
    "            words = self.process_text(text)\n",
    "            \n",
    "            indexed_words = self.indexing(words)\n",
    "            \n",
    "            if indexed_words:\n",
    "                self.x_data.append(indexed_words)\n",
    "                self.y_data.append(y)\n",
    "    \n",
    "    def indexing(self, tokenized_text: List[str]) -> List[int]:\n",
    "\n",
    "        # здесь мы не используем токен UNK, потому что мы мы его специально не учили\n",
    "        # становится непонятно какой же эмбеддинг присвоить неизвестному слову,\n",
    "        # поэтому просто выбрасываем наши неизветсные слова\n",
    "        \n",
    "        ### CODE ###\n",
    "        \n",
    "        return [self.word2index[token] for token in tokenized_text\n",
    "                if token in self.word2index]\n",
    "    \n",
    "    def padding(self, sequence: List[int]) -> List[int]:\n",
    "        \n",
    "        # Ограничить длину self.sequence_length\n",
    "        # если длина меньше максимально - западить\n",
    "        \n",
    "        ### CODE ###\n",
    "        \n",
    "        sequence = sequence[:self.sequence_length]\n",
    "        if len(sequence) < self.sequence_length:\n",
    "            sequence += [self.pad_index] * (self.sequence_length - len(sequence))\n",
    "\n",
    "        return sequence\n",
    "    \n",
    "    def __len__(self):\n",
    "        \n",
    "        return len(self.x_data)\n",
    "    \n",
    "    def __getitem__(self, idx):\n",
    "        \n",
    "        x = self.x_data[idx]\n",
    "        x = self.padding(x)\n",
    "        x = torch.Tensor(x).long()\n",
    "        \n",
    "        y = self.y_data[idx]\n",
    "        \n",
    "        return x, y"
   ]
  },
  {
   "cell_type": "code",
   "execution_count": 50,
   "metadata": {
    "colab": {
     "base_uri": "https://localhost:8080/",
     "height": 34
    },
    "colab_type": "code",
    "id": "AbKaEWUWW-Bq",
    "outputId": "5a197f4a-c100-40bb-a099-b0758dbdfd33"
   },
   "outputs": [
    {
     "name": "stderr",
     "output_type": "stream",
     "text": [
      "Loading data: 100%|██████████| 237779/237779 [00:01<00:00, 138661.48it/s]\n"
     ]
    }
   ],
   "source": [
    "dataset = WordData(data.text, data.category, word2index)"
   ]
  },
  {
   "cell_type": "code",
   "execution_count": 51,
   "metadata": {
    "colab": {},
    "colab_type": "code",
    "id": "Lnc2nD8gW-Br"
   },
   "outputs": [],
   "source": [
    "data_loader = DataLoader(dataset, batch_size=64)"
   ]
  },
  {
   "cell_type": "code",
   "execution_count": 52,
   "metadata": {
    "colab": {},
    "colab_type": "code",
    "id": "dGeftxdgW-Br"
   },
   "outputs": [],
   "source": [
    "for x, y in data_loader:\n",
    "    break"
   ]
  },
  {
   "cell_type": "code",
   "execution_count": 53,
   "metadata": {
    "colab": {
     "base_uri": "https://localhost:8080/",
     "height": 136
    },
    "colab_type": "code",
    "id": "nNkGQffBW-Bs",
    "outputId": "e90b92ef-0c92-4952-8a64-8a94c54d1fd2"
   },
   "outputs": [
    {
     "data": {
      "text/plain": [
       "tensor([[  153,   137,     4,  ...,     0,     0,     0],\n",
       "        [   65,   137, 97522,  ...,     0,     0,     0],\n",
       "        [ 1584,   955,    17,  ...,     0,     0,     0],\n",
       "        ...,\n",
       "        [75752,   137,  8345,  ...,     0,     0,     0],\n",
       "        [33902,  1327,     0,  ...,     0,     0,     0],\n",
       "        [  172,  5175,  1015,  ...,     0,     0,     0]])"
      ]
     },
     "execution_count": 53,
     "metadata": {},
     "output_type": "execute_result"
    }
   ],
   "source": [
    "x"
   ]
  },
  {
   "cell_type": "code",
   "execution_count": 54,
   "metadata": {
    "colab": {
     "base_uri": "https://localhost:8080/",
     "height": 68
    },
    "colab_type": "code",
    "id": "fxUk4nGcW-Bt",
    "outputId": "8512d8a9-565e-4497-8456-cbb6a08ea073"
   },
   "outputs": [
    {
     "data": {
      "text/plain": [
       "tensor([0, 1, 0, 0, 1, 0, 0, 2, 1, 3, 0, 0, 4, 1, 2, 4, 4, 4, 1, 0, 3, 3, 1, 1,\n",
       "        1, 2, 1, 1, 4, 2, 0, 1, 1, 4, 3, 4, 1, 4, 4, 3, 1, 1, 4, 1, 3, 3, 4, 4,\n",
       "        1, 1, 1, 0, 1, 3, 0, 1, 2, 2, 4, 0, 4, 4, 0, 3])"
      ]
     },
     "execution_count": 54,
     "metadata": {},
     "output_type": "execute_result"
    }
   ],
   "source": [
    "y"
   ]
  },
  {
   "cell_type": "markdown",
   "metadata": {
    "colab_type": "text",
    "id": "EPJk8hKyW-Bv"
   },
   "source": [
    "# Ожидается примерно следующее\n",
    "```python\n",
    "tensor([[  153,   137,     4,  ...,     0,     0,     0],\n",
    "        [   65,   137, 97522,  ...,     0,     0,     0],\n",
    "        [ 1584,   955,    17,  ...,     0,     0,     0],\n",
    "        ...,\n",
    "        [75752,   137,  8345,  ...,     0,     0,     0],\n",
    "        [33902,  1327,     0,  ...,     0,     0,     0],\n",
    "        [  172,  5175,  1015,  ...,     0,     0,     0]])\n",
    "tensor([0, 1, 0, 0, 1, 0, 0, 2, 1, 3, 0, 0, 4, 1, 2, 4, 4, 4, 1, 0, 3, 3, 1, 1,\n",
    "        1, 2, 1, 1, 4, 2, 0, 1, 1, 4, 3, 4, 1, 4, 4, 3, 1, 1, 4, 1, 3, 3, 4, 4,\n",
    "        1, 1, 1, 0, 1, 3, 0, 1, 2, 2, 4, 0, 4, 4, 0, 3])\n",
    "```"
   ]
  },
  {
   "cell_type": "markdown",
   "metadata": {
    "colab_type": "text",
    "id": "Zy0dkkTIW-Bw"
   },
   "source": [
    "# Обучить нейронку"
   ]
  },
  {
   "cell_type": "markdown",
   "metadata": {
    "colab_type": "text",
    "id": "zNOceKKVW-Bx"
   },
   "source": [
    "## План\n",
    "1. Разбить датасет на трейн/тест или на трейн/валидация/тест, как вам больше нравится\n",
    "1. Сделать класс нейронки, вписать необходимые операции, базовая архитектура ниже\n",
    "1. Написать обучалку\n",
    "1. Добавить логирование\n",
    "    1. Сохранять лосс на каждой итерции обучения __0.25 балла__\n",
    "    1. Каждую эпоху сохранять лосс трейна и тест __0.25 балла__\n",
    "    1. Каждую эпоху рассчитывать метрики __0.25 балла__\n",
    "    1. Добавить прогресс бар, в котором показывается усредненный лосс последних 500-та итераций __0.25 балла__\n",
    "1. Добавить early stopping __0.5 балла__\n",
    "1. Отрисовать графики лосса, метрик, конфьюжин матрицу __0.5 балла__\n",
    "1. Улучшить результат. Например, можно добавить BatchNorm, Dropout, Residual, etc __1 балл__\n",
    "1. Сделать макро f1 больше 0.8 __1 балл__\n",
    "1. Написать какие действия к чему приводили (почему вы их делали и оправдались ли ожидания)\n",
    "\n",
    "## Базовая архитектура\n",
    "1. Предобученные эмбеддинги. Почитайте [здесь](https://pytorch.org/docs/stable/nn.html#embedding) (from_pretrained) как вставить свои эмбеддинги, выше мы читали матрицу эмбеддингов. __1 балл__\n",
    "1. Bidirectional LSTM. __1 балл__\n",
    "2. Несколько параллельных CNN с разными размерами окна и пулингами к ним. __2 балла__\n",
    "3. Конкатенация результатов CNN. __0 баллов__ (идет вместе с предыдущим пунктом)\n",
    "4. Предикт в количество классов. __0 баллов__ (ну все-таки предсказать классы нужно обязательно)\n",
    "\n",
    "__Дополнительные баллы:__\n",
    "- Написать GRU с нуля самому __1 балл__\n",
    "- Побить макро f1 0.84 __1 балл__\n",
    "- Переобучиться и снизить переобучение за счет трюков. Пояснение: показываете, что вот такая архитектура переобучается, а вот я добавил/а это и это, изменил/а это и это и переобучение ушло __1 балл__\n",
    "- Добавить селф аттеншин (написанный своими руками) __3 балла__\n",
    "- За мультихед селф аттеншин еще __1 балл__\n",
    "- Добавить [torch.nn.utils.rnn.pack_padded_sequence()](https://pytorch.org/docs/stable/nn.html#torch.nn.utils.rnn.pack_padded_sequence) и [torch.nn.utils.rnn.pack_sequence()](https://pytorch.org/docs/stable/nn.html#torch.nn.utils.rnn.pack_sequence) для LSTM. Инфа [здесь](#Еще-важный-момент-про-LSTM) __2 балла__\n",
    "- Добавить дропаут для входа LSTM (не просто стандартный пункт при инициализации LSTM) __1 балл__\n",
    "- Добавить шедуллеры __1 балл__\n",
    "- your madness\n",
    "\n",
    "### TIPs:\n",
    "- Если будете брать ```train_test_split```, не забудьте сделать ```reset_index```, чтобы по индексу корректно доставались таргеты из ```y_data```  \n",
    "- Необязательно делить датасет именно на 70 % и 30 %  \n",
    "- Пулинг можно делать без торчового слоя\n",
    "\n",
    "# РАЗМЕР ТЕСТА НЕ МЕНЬШЕ 10% ДАТАСЕТА\n",
    "# 10 БАЛЛОВ МАКСИМУМ"
   ]
  },
  {
   "cell_type": "code",
   "execution_count": 55,
   "metadata": {},
   "outputs": [],
   "source": [
    "from sklearn.model_selection import train_test_split"
   ]
  },
  {
   "cell_type": "code",
   "execution_count": 56,
   "metadata": {},
   "outputs": [],
   "source": [
    "X_train, X_test, y_train, y_test = train_test_split(list(data.text), list(data.category), test_size=0.1, random_state=42)\n",
    "X_train, X_valid, y_train, y_valid = train_test_split(X_train, y_train, test_size=0.11, random_state=57)"
   ]
  },
  {
   "cell_type": "code",
   "execution_count": 57,
   "metadata": {},
   "outputs": [
    {
     "name": "stderr",
     "output_type": "stream",
     "text": [
      "Loading data: 100%|██████████| 190460/190460 [00:01<00:00, 127628.73it/s]\n"
     ]
    }
   ],
   "source": [
    "train_dataset = WordData(X_train, y_train, word2index)\n",
    "train_data_loader = DataLoader(train_dataset, batch_size=64, shuffle=True)"
   ]
  },
  {
   "cell_type": "code",
   "execution_count": 58,
   "metadata": {},
   "outputs": [
    {
     "name": "stderr",
     "output_type": "stream",
     "text": [
      "Loading data: 100%|██████████| 23541/23541 [00:00<00:00, 150759.94it/s]\n"
     ]
    }
   ],
   "source": [
    "valid_dataset = WordData(X_valid, y_valid, word2index)\n",
    "valid_data_loader = DataLoader(valid_dataset, batch_size=64)"
   ]
  },
  {
   "cell_type": "code",
   "execution_count": 59,
   "metadata": {},
   "outputs": [
    {
     "name": "stderr",
     "output_type": "stream",
     "text": [
      "Loading data: 100%|██████████| 23778/23778 [00:00<00:00, 147234.18it/s]\n"
     ]
    }
   ],
   "source": [
    "test_dataset = WordData(X_test, y_test, word2index)\n",
    "test_data_loader = DataLoader(test_dataset, batch_size=64)"
   ]
  },
  {
   "cell_type": "code",
   "execution_count": 64,
   "metadata": {},
   "outputs": [],
   "source": [
    "import torch.nn.functional as F"
   ]
  },
  {
   "cell_type": "code",
   "execution_count": 65,
   "metadata": {},
   "outputs": [],
   "source": [
    "class Model(torch.nn.Module):\n",
    "    \n",
    "    def __init__(self, input_size, emb_vectors, hidden_size=512, n_filters=64,\n",
    "                 filter_sizes=(2,3,4), out_features=5):\n",
    "        super().__init__()        \n",
    "        \n",
    "        self.emb = torch.nn.Embedding.from_pretrained(emb_vectors)\n",
    "        self.lstm_dropout = torch.nn.Dropout(p=0.2)\n",
    "        self.lstm = torch.nn.LSTM(input_size, hidden_size=hidden_size, batch_first=True, bidirectional=True)\n",
    "        self.convs = torch.nn.ModuleList([\n",
    "                                    torch.nn.Conv1d(in_channels = hidden_size*2, \n",
    "                                              out_channels = n_filters, \n",
    "                                              kernel_size = fs) for fs in filter_sizes])\n",
    "        \n",
    "        self.lin = torch.nn.Linear(in_features=len(filter_sizes) * n_filters,\n",
    "                                  out_features=out_features)\n",
    "#         self.cnn_dropout = torch.nn.AlphaDropout(p=0.2)\n",
    "    \n",
    "    def forward(self, x):\n",
    "        sent_lengths = x.bool().sum(dim=1)\n",
    "        emb = self.emb(x)\n",
    "        drop_emb = self.lstm_dropout(emb)\n",
    "        packed = torch.nn.utils.rnn.pack_padded_sequence(drop_emb, sent_lengths, batch_first=True, enforce_sorted=False)\n",
    "        lstm_emb, mem = self.lstm(packed)\n",
    "        unpacked, _ = torch.nn.utils.rnn.pad_packed_sequence(lstm_emb, batch_first=True, total_length=32)\n",
    "        conved = [F.relu(conv(unpacked.transpose(1, 2))) for conv in self.convs]\n",
    "        pooled = [F.max_pool1d(conv, conv.shape[2]).squeeze(2) for conv in conved]\n",
    "        cat = torch.cat(pooled, dim = 1)\n",
    "        return self.lin(cat)"
   ]
  },
  {
   "cell_type": "code",
   "execution_count": 99,
   "metadata": {},
   "outputs": [
    {
     "data": {
      "text/plain": [
       "Model(\n",
       "  (emb): Embedding(117619, 300)\n",
       "  (lstm_dropout): Dropout(p=0.2, inplace=False)\n",
       "  (lstm): LSTM(300, 512, batch_first=True, bidirectional=True)\n",
       "  (convs): ModuleList(\n",
       "    (0): Conv1d(1024, 64, kernel_size=(2,), stride=(1,))\n",
       "    (1): Conv1d(1024, 64, kernel_size=(3,), stride=(1,))\n",
       "    (2): Conv1d(1024, 64, kernel_size=(4,), stride=(1,))\n",
       "  )\n",
       "  (lin): Linear(in_features=192, out_features=5, bias=True)\n",
       ")"
      ]
     },
     "execution_count": 99,
     "metadata": {},
     "output_type": "execute_result"
    }
   ],
   "source": [
    "model = Model(300, torch.Tensor(vectors))\n",
    "model.to(device)"
   ]
  },
  {
   "cell_type": "code",
   "execution_count": 100,
   "metadata": {},
   "outputs": [],
   "source": [
    "optimizer = torch.optim.Adam(params=model.parameters(), lr=0.001)\n",
    "\n",
    "# aka loss function\n",
    "criterion = torch.nn.CrossEntropyLoss()"
   ]
  },
  {
   "cell_type": "code",
   "execution_count": 101,
   "metadata": {},
   "outputs": [],
   "source": [
    "from sklearn.metrics import f1_score\n",
    "import datetime\n",
    "import time"
   ]
  },
  {
   "cell_type": "code",
   "execution_count": 102,
   "metadata": {},
   "outputs": [],
   "source": [
    "def calculate_metrics(model: torch.nn.Module, data_loader, loss_function, extended=False):\n",
    "    train_state = model.training\n",
    "    \n",
    "    with torch.no_grad():\n",
    "        model.eval()\n",
    "        start_time = time.time()\n",
    "        y_golds, y_preds, losses = [], [], []\n",
    "        for x, y in data_loader:\n",
    "            y_pred = model(x.to(device))\n",
    "            losses.append(loss_function(y_pred, y.to(device)).item())\n",
    "            \n",
    "            y_pred = torch.argmax(y_pred, dim=1).cpu()\n",
    "            y_golds.extend(y.numpy())\n",
    "            y_preds.extend(y_pred.numpy())\n",
    "        y_golds = np.asarray(y_golds)\n",
    "        y_preds = np.asarray(y_preds)\n",
    "        \n",
    "    model.train(train_state)\n",
    "    \n",
    "    metrics = {\n",
    "        'f1_macro': f1_score(y_golds, y_preds, labels=list(range(5)), average='macro'),\n",
    "        'acc': np.mean(y_golds == y_preds),\n",
    "        'loss': np.mean(losses),\n",
    "        'time_spent': str(datetime.timedelta(seconds=time.time() - start_time))\n",
    "    }\n",
    "    if extended:\n",
    "        metrics['confusion_matrix'] = confusion_matrix(y_golds, y_preds)\n",
    "    return metrics"
   ]
  },
  {
   "cell_type": "code",
   "execution_count": 103,
   "metadata": {},
   "outputs": [
    {
     "name": "stderr",
     "output_type": "stream",
     "text": [
      "Epoch 1: 100%|██████████| 190425/190425 [02:08<00:00, 1486.08it/s, loss=0.495]\n",
      "VALID: {'f1_macro': 0.8263533482947765, 'acc': 0.8306849082256968, 'loss': 0.46591697442952706, 'time_spent': '0:00:04.329843'}\n",
      "Epoch 2: 100%|██████████| 190425/190425 [02:08<00:00, 1487.59it/s, loss=0.463]\n",
      "VALID: {'f1_macro': 0.8402209060630919, 'acc': 0.8433463630183549, 'loss': 0.43739519041517505, 'time_spent': '0:00:04.138660'}\n",
      "Epoch 3: 100%|██████████| 190425/190425 [02:08<00:00, 1478.54it/s, loss=0.433]\n",
      "VALID: {'f1_macro': 0.8398449016534073, 'acc': 0.8437287559483345, 'loss': 0.4332092456600588, 'time_spent': '0:00:04.135930'}\n",
      "Epoch 4: 100%|██████████| 190425/190425 [02:09<00:00, 1475.49it/s, loss=0.409]\n",
      "VALID: {'f1_macro': 0.845016280159815, 'acc': 0.8474252209381373, 'loss': 0.42511825546946214, 'time_spent': '0:00:04.143185'}\n",
      "Epoch 5: 100%|██████████| 190425/190425 [02:08<00:00, 1478.70it/s, loss=0.387]\n",
      "VALID: {'f1_macro': 0.8406211494758411, 'acc': 0.8458956492182189, 'loss': 0.425078258930665, 'time_spent': '0:00:04.141435'}\n",
      "Epoch 6: 100%|██████████| 190425/190425 [02:08<00:00, 1476.46it/s, loss=0.363]\n",
      "VALID: {'f1_macro': 0.845076602259114, 'acc': 0.8469578518014956, 'loss': 0.4344485103679092, 'time_spent': '0:00:04.139339'}\n",
      "Epoch 7: 100%|██████████| 190425/190425 [02:09<00:00, 1474.61it/s, loss=0.334]\n",
      "VALID: {'f1_macro': 0.8427786230037613, 'acc': 0.846617946974847, 'loss': 0.44860722023345856, 'time_spent': '0:00:04.134940'}\n",
      "Epoch 8: 100%|██████████| 190425/190425 [02:08<00:00, 1477.16it/s, loss=0.289]\n",
      "VALID: {'f1_macro': 0.8391173244521909, 'acc': 0.8426240652617267, 'loss': 0.4658351442979082, 'time_spent': '0:00:04.132846'}\n",
      "Epoch 9: 100%|██████████| 190425/190425 [02:09<00:00, 1470.86it/s, loss=0.26] \n",
      "VALID: {'f1_macro': 0.834989140585302, 'acc': 0.8368031951053705, 'loss': 0.5004119823241363, 'time_spent': '0:00:04.137121'}\n",
      "STOPPED EARLY\n",
      "VALID: {'f1_macro': 0.845076602259114, 'acc': 0.8469578518014956, 'loss': 0.4344485103679092, 'time_spent': '0:00:04.135068'}\n",
      "TEST: {'f1_macro': 0.8437959774564951, 'acc': 0.8455811214402894, 'loss': 0.4357942766159452, 'time_spent': '0:00:04.169359'}\n"
     ]
    }
   ],
   "source": [
    "import sys\n",
    "\n",
    "save_path = './model.pt'\n",
    "saved = False\n",
    "\n",
    "n_epoch = 0\n",
    "\n",
    "best_f1 = 0\n",
    "max_patience = 3\n",
    "patience = 0\n",
    "\n",
    "losses = []\n",
    "valid_metrics = []\n",
    "\n",
    "model.train()\n",
    "\n",
    "while True:\n",
    "\n",
    "    try:\n",
    "\n",
    "        with tqdm(total=len(train_data_loader.dataset), desc='Epoch {}'.format(n_epoch + 1)) as progress_bar:\n",
    "\n",
    "            for x, y in train_data_loader:\n",
    "\n",
    "                # CODE\n",
    "\n",
    "                optimizer.zero_grad()\n",
    "\n",
    "                y_pred = model(x.to(device))\n",
    "\n",
    "                loss = criterion(y_pred, y.to(device))\n",
    "                loss.backward()\n",
    "                optimizer.step()\n",
    "\n",
    "                # CODE\n",
    "\n",
    "                losses.append(loss.item())\n",
    "\n",
    "                progress_bar.set_postfix(loss=np.mean(losses[-500:]))\n",
    "\n",
    "                progress_bar.update(x.shape[0])\n",
    "\n",
    "        ###### VALIDATION ########\n",
    "        metrics = calculate_metrics(model, valid_data_loader, criterion)\n",
    "        valid_metrics.append(metrics)\n",
    "        print('VALID:', metrics, file=sys.stderr)\n",
    "        if metrics['f1_macro'] > best_f1:\n",
    "            best_f1 = metrics['f1_macro']\n",
    "            patience = 0\n",
    "            torch.save(model.state_dict(), save_path)\n",
    "            saved = True\n",
    "        else:\n",
    "            patience += 1\n",
    "            \n",
    "        if patience >= max_patience:\n",
    "            print('STOPPED EARLY', file=sys.stderr)\n",
    "            break\n",
    "            \n",
    "        n_epoch += 1\n",
    "\n",
    "    except KeyboardInterrupt:\n",
    "        print('INTERRUPTED', file=sys.stderr)\n",
    "        break\n",
    "\n",
    "if saved:\n",
    "    model.load_state_dict(torch.load(save_path))  # load best model\n",
    "model.eval()  # for inference\n",
    "\n",
    "print('VALID:', calculate_metrics(model, valid_data_loader, criterion), file=sys.stderr)\n",
    "print('TEST:', calculate_metrics(model, test_data_loader, criterion), file=sys.stderr)"
   ]
  },
  {
   "cell_type": "code",
   "execution_count": 104,
   "metadata": {},
   "outputs": [
    {
     "name": "stderr",
     "output_type": "stream",
     "text": [
      "TRAIN: {'f1_macro': 0.8931032289009788, 'acc': 0.8941893133779704, 'loss': 0.2922937422715408, 'time_spent': '0:00:33.651954'}\n"
     ]
    }
   ],
   "source": [
    "print('TRAIN:', calculate_metrics(model, train_data_loader, criterion), file=sys.stderr)"
   ]
  },
  {
   "cell_type": "code",
   "execution_count": 105,
   "metadata": {},
   "outputs": [],
   "source": [
    "valid_losses = [item['loss'] for item in valid_metrics]\n",
    "valid_f1 = [item['f1_macro'] for item in valid_metrics]"
   ]
  },
  {
   "cell_type": "code",
   "execution_count": 106,
   "metadata": {},
   "outputs": [],
   "source": [
    "import matplotlib.pyplot as plt\n",
    "import seaborn as sns\n",
    "from sklearn.metrics import confusion_matrix"
   ]
  },
  {
   "cell_type": "code",
   "execution_count": 107,
   "metadata": {},
   "outputs": [
    {
     "data": {
      "text/plain": [
       "[<matplotlib.lines.Line2D at 0x7f58065b8f98>]"
      ]
     },
     "execution_count": 107,
     "metadata": {},
     "output_type": "execute_result"
    },
    {
     "data": {
      "image/png": "[encoded data removed]",
      "text/plain": [
       "<Figure size 432x288 with 1 Axes>"
      ]
     },
     "metadata": {
      "needs_background": "light"
     },
     "output_type": "display_data"
    }
   ],
   "source": [
    "plt.title('Training Process')\n",
    "plt.xlabel('Iterations')\n",
    "plt.ylabel('Loss')\n",
    "plt.grid()\n",
    "plt.plot(train_losses)"
   ]
  },
  {
   "cell_type": "code",
   "execution_count": 108,
   "metadata": {},
   "outputs": [
    {
     "data": {
      "text/plain": [
       "[<matplotlib.lines.Line2D at 0x7f57fca45588>]"
      ]
     },
     "execution_count": 108,
     "metadata": {},
     "output_type": "execute_result"
    },
    {
     "data": {
      "image/png": "[encoded data removed]",
      "text/plain": [
       "<Figure size 432x288 with 1 Axes>"
      ]
     },
     "metadata": {
      "needs_background": "light"
     },
     "output_type": "display_data"
    }
   ],
   "source": [
    "plt.title('Validation Process')\n",
    "plt.xlabel('Epochs')\n",
    "plt.ylabel('Loss')\n",
    "plt.grid()\n",
    "plt.plot(valid_losses)"
   ]
  },
  {
   "cell_type": "code",
   "execution_count": 109,
   "metadata": {},
   "outputs": [
    {
     "data": {
      "text/plain": [
       "[<matplotlib.lines.Line2D at 0x7f57fcac1cf8>]"
      ]
     },
     "execution_count": 109,
     "metadata": {},
     "output_type": "execute_result"
    },
    {
     "data": {
      "image/png": "[encoded data removed]",
      "text/plain": [
       "<Figure size 432x288 with 1 Axes>"
      ]
     },
     "metadata": {
      "needs_background": "light"
     },
     "output_type": "display_data"
    }
   ],
   "source": [
    "plt.title('Validation Metrics')\n",
    "plt.xlabel('Epochs')\n",
    "plt.ylabel('F1_macro')\n",
    "plt.grid()\n",
    "plt.plot(valid_f1)"
   ]
  },
  {
   "cell_type": "code",
   "execution_count": 110,
   "metadata": {},
   "outputs": [
    {
     "data": {
      "image/png": "[encoded data removed]",
      "text/plain": [
       "<Figure size 720x720 with 1 Axes>"
      ]
     },
     "metadata": {
      "needs_background": "light"
     },
     "output_type": "display_data"
    }
   ],
   "source": [
    "test_metrics = calculate_metrics(model, test_data_loader, criterion, extended=True)\n",
    "m = test_metrics['confusion_matrix']\n",
    "labels = ['business', 'law', 'love', 'relax', 'food']\n",
    "plt.figure(figsize = (10,10))\n",
    "sns.heatmap(data=m, annot=True, fmt=\"d\", cbar=False, xticklabels=labels, yticklabels=labels, cmap=\"PuBuGn\")\n",
    "plt.title(\"Confusion matrix\")\n",
    "plt.show()"
   ]
  },
  {
   "cell_type": "markdown",
   "metadata": {},
   "source": [
    "# Итого сделано:\n",
    "\n",
    "1. Добавить логирование\n",
    "    1. Сохранять лосс на каждой итерции обучения __0.25 балла__\n",
    "    1. Каждую эпоху сохранять лосс трейна и тест __0.25 балла__\n",
    "    1. Каждую эпоху рассчитывать метрики __0.25 балла__\n",
    "    1. Добавить прогресс бар, в котором показывается усредненный лосс последних 500-та итераций __0.25 балла__\n",
    "1. Добавить early stopping __0.5 балла__\n",
    "1. Отрисовать графики лосса, метрик, конфьюжин матрицу __0.5 балла__\n",
    "1. Улучшить результат. Например, можно добавить BatchNorm, Dropout, Residual, etc __1 балл__\n",
    "1. Сделать макро f1 больше 0.8 __1 балл__\n",
    "1. Написать какие действия к чему приводили (почему вы их делали и оправдались ли ожидания):\n",
    "  - добавлен дропаут = 0.2 перед lstm => стало меньше переобучаться\n",
    "  - зашафлен трейн сет на каждой эпохе => метрики стали повыше\n",
    "  - альфа-дропаут = 0.2 перед свертками => замедлил обучение и не помог с переобучением\n",
    "  - несколько параллельных сверток вместо одной повышают метрики\n",
    "\n",
    "## Базовая архитектура\n",
    "1. Предобученные эмбеддинги. Почитайте [здесь](https://pytorch.org/docs/stable/nn.html#embedding) (from_pretrained) как вставить свои эмбеддинги, выше мы читали матрицу эмбеддингов. __1 балл__\n",
    "1. Bidirectional LSTM. __1 балл__\n",
    "2. Несколько параллельных CNN с разными размерами окна и пулингами к ним. __2 балла__\n",
    "3. Конкатенация результатов CNN. __0 баллов__ (идет вместе с предыдущим пунктом)\n",
    "4. Предикт в количество классов. __0 баллов__ (ну все-таки предсказать классы нужно обязательно)\n",
    "\n",
    "__Дополнительные баллы:__\n",
    "- Побить макро f1 0.84 __1 балл__\n",
    "- Переобучиться и снизить переобучение за счет трюков. Пояснение: показываете, что вот такая архитектура переобучается, а вот я добавил/а это и это, изменил/а это и это и переобучение ушло __1 балл__\n",
    "- Добавить [torch.nn.utils.rnn.pack_padded_sequence()](https://pytorch.org/docs/stable/nn.html#torch.nn.utils.rnn.pack_padded_sequence) и [torch.nn.utils.rnn.pack_sequence()](https://pytorch.org/docs/stable/nn.html#torch.nn.utils.rnn.pack_sequence) для LSTM. Инфа [здесь](#Еще-важный-момент-про-LSTM) __2 балла__\n",
    "- Добавить дропаут для входа LSTM (не просто стандартный пункт при инициализации LSTM) __1 балл__"
   ]
  }
 ],
 "metadata": {
  "accelerator": "GPU",
  "colab": {
   "name": "Classification.ipynb",
   "provenance": []
  },
  "kernelspec": {
   "display_name": "Python 3.7",
   "language": "python",
   "name": "python3.7"
  },
  "language_info": {
   "codemirror_mode": {
    "name": "ipython",
    "version": 3
   },
   "file_extension": ".py",
   "mimetype": "text/x-python",
   "name": "python",
   "nbconvert_exporter": "python",
   "pygments_lexer": "ipython3",
   "version": "3.7.3"
  }
 },
 "nbformat": 4,
 "nbformat_minor": 4
}
