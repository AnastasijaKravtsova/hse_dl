{
 "cells": [
  {
   "cell_type": "code",
   "execution_count": 1,
   "metadata": {},
   "outputs": [],
   "source": [
    "import json\n",
    "import random\n",
    "from tqdm import tqdm\n",
    "import numpy as np\n",
    "\n",
    "from matplotlib import pyplot as plt\n",
    "from sklearn.decomposition import TruncatedSVD\n",
    "from sklearn.manifold import TSNE\n",
    "\n",
    "import torch\n",
    "\n",
    "from pylab import rcParams\n",
    "rcParams['figure.figsize'] = 15, 15"
   ]
  },
  {
   "cell_type": "markdown",
   "metadata": {},
   "source": [
    "# Что делать?\n",
    "Где есть пометка # CODE писать код\n",
    "\n",
    "[Полезный туториал](http://jalammar.github.io/illustrated-word2vec/)"
   ]
  },
  {
   "cell_type": "markdown",
   "metadata": {},
   "source": [
    "# Загружаем данные\n",
    "Они уже обработанные и токенизированные. Процесс можно посмотреть в тетрадке 1.1 Processing corpus"
   ]
  },
  {
   "cell_type": "code",
   "execution_count": 2,
   "metadata": {},
   "outputs": [],
   "source": [
    "with open('data/processed_corpus.json') as f:\n",
    "    corpus = json.load(f)"
   ]
  },
  {
   "cell_type": "code",
   "execution_count": 3,
   "metadata": {},
   "outputs": [
    {
     "data": {
      "text/plain": [
       "100000"
      ]
     },
     "execution_count": 3,
     "metadata": {},
     "output_type": "execute_result"
    }
   ],
   "source": [
    "len(corpus)"
   ]
  },
  {
   "cell_type": "code",
   "execution_count": 4,
   "metadata": {},
   "outputs": [
    {
     "name": "stdout",
     "output_type": "stream",
     "text": [
      "бросать посреди ночь еда отделение перекладывать деньга вручную банкомат\n",
      "начало год подавать заявка оформление карта одобрить передумать брать карта\n",
      "почему научить банкомат сообщать маленький история кредитка получать\n",
      "возврат деньга отказать причина отсутствие чек сказать сотрудник\n",
      "такой потребовать вышестоящий сотрудник неохота попросить подождать\n"
     ]
    }
   ],
   "source": [
    "for text in corpus[:5]:\n",
    "    print(' '.join(text))"
   ]
  },
  {
   "cell_type": "markdown",
   "metadata": {},
   "source": [
    "# CBOW"
   ]
  },
  {
   "cell_type": "code",
   "execution_count": 5,
   "metadata": {},
   "outputs": [],
   "source": [
    "sample_text = corpus[1]"
   ]
  },
  {
   "cell_type": "code",
   "execution_count": 6,
   "metadata": {},
   "outputs": [
    {
     "data": {
      "text/plain": [
       "'начало год подавать заявка оформление карта одобрить передумать брать карта'"
      ]
     },
     "execution_count": 6,
     "metadata": {},
     "output_type": "execute_result"
    }
   ],
   "source": [
    "' '.join(sample_text)"
   ]
  },
  {
   "cell_type": "markdown",
   "metadata": {},
   "source": [
    "# Реализуйте разделение предложения на примеры методом CBOW"
   ]
  },
  {
   "cell_type": "code",
   "execution_count": 7,
   "metadata": {},
   "outputs": [],
   "source": [
    "def cbow_split(tokens, window, pad_token='PAD'):\n",
    "    \n",
    "    splits = []\n",
    "    \n",
    "    # CODE\n",
    "    \n",
    "    tokens = ['PAD'] * window + tokens + ['PAD'] * window\n",
    "    for i in range(window, len(tokens) - window):\n",
    "        left_context = tokens[i-window:i]\n",
    "        central_word = tokens[i]\n",
    "        right_context = tokens[i+1:i+window+1]\n",
    "        splits.append((left_context, central_word, right_context))\n",
    "        \n",
    "    return splits"
   ]
  },
  {
   "cell_type": "code",
   "execution_count": 8,
   "metadata": {},
   "outputs": [],
   "source": [
    "splits = cbow_split(sample_text, window=2)"
   ]
  },
  {
   "cell_type": "code",
   "execution_count": 9,
   "metadata": {},
   "outputs": [
    {
     "name": "stdout",
     "output_type": "stream",
     "text": [
      "Левый контекст: ['PAD', 'PAD']\n",
      "Центральное слово: начало\n",
      "Правый контекст: ['год', 'подавать']\n",
      "\n",
      "Левый контекст: ['PAD', 'начало']\n",
      "Центральное слово: год\n",
      "Правый контекст: ['подавать', 'заявка']\n",
      "\n",
      "Левый контекст: ['начало', 'год']\n",
      "Центральное слово: подавать\n",
      "Правый контекст: ['заявка', 'оформление']\n",
      "\n",
      "Левый контекст: ['год', 'подавать']\n",
      "Центральное слово: заявка\n",
      "Правый контекст: ['оформление', 'карта']\n",
      "\n",
      "Левый контекст: ['подавать', 'заявка']\n",
      "Центральное слово: оформление\n",
      "Правый контекст: ['карта', 'одобрить']\n",
      "\n",
      "Левый контекст: ['заявка', 'оформление']\n",
      "Центральное слово: карта\n",
      "Правый контекст: ['одобрить', 'передумать']\n",
      "\n",
      "Левый контекст: ['оформление', 'карта']\n",
      "Центральное слово: одобрить\n",
      "Правый контекст: ['передумать', 'брать']\n",
      "\n",
      "Левый контекст: ['карта', 'одобрить']\n",
      "Центральное слово: передумать\n",
      "Правый контекст: ['брать', 'карта']\n",
      "\n",
      "Левый контекст: ['одобрить', 'передумать']\n",
      "Центральное слово: брать\n",
      "Правый контекст: ['карта', 'PAD']\n",
      "\n",
      "Левый контекст: ['передумать', 'брать']\n",
      "Центральное слово: карта\n",
      "Правый контекст: ['PAD', 'PAD']\n",
      "\n"
     ]
    }
   ],
   "source": [
    "for sample in splits:\n",
    "    print('Левый контекст:', sample[0])\n",
    "    print('Центральное слово:', sample[1])\n",
    "    print('Правый контекст:', sample[2], end='\\n\\n')"
   ]
  },
  {
   "cell_type": "code",
   "execution_count": 10,
   "metadata": {},
   "outputs": [
    {
     "data": {
      "text/plain": [
       "[(['PAD', 'PAD'], 'начало', ['год', 'подавать']),\n",
       " (['PAD', 'начало'], 'год', ['подавать', 'заявка']),\n",
       " (['начало', 'год'], 'подавать', ['заявка', 'оформление']),\n",
       " (['год', 'подавать'], 'заявка', ['оформление', 'карта']),\n",
       " (['подавать', 'заявка'], 'оформление', ['карта', 'одобрить']),\n",
       " (['заявка', 'оформление'], 'карта', ['одобрить', 'передумать']),\n",
       " (['оформление', 'карта'], 'одобрить', ['передумать', 'брать']),\n",
       " (['карта', 'одобрить'], 'передумать', ['брать', 'карта']),\n",
       " (['одобрить', 'передумать'], 'брать', ['карта', 'PAD']),\n",
       " (['передумать', 'брать'], 'карта', ['PAD', 'PAD'])]"
      ]
     },
     "execution_count": 10,
     "metadata": {},
     "output_type": "execute_result"
    }
   ],
   "source": [
    "splits"
   ]
  },
  {
   "cell_type": "markdown",
   "metadata": {},
   "source": [
    "# Expected\n",
    "\n",
    "```python\n",
    "[(['PAD', 'PAD'], 'вопрос', ['почему', 'например']),\n",
    " (['PAD', 'вопрос'], 'почему', ['например', 'китайский']),\n",
    " (['вопрос', 'почему'], 'например', ['китайский', 'японский']),\n",
    " (['почему', 'например'], 'китайский', ['японский', 'UNK']),\n",
    " (['например', 'китайский'], 'японский', ['UNK', 'PAD']),\n",
    " (['китайский', 'японский'], 'UNK', ['PAD', 'PAD'])]\n",
    "```"
   ]
  },
  {
   "cell_type": "code",
   "execution_count": 11,
   "metadata": {},
   "outputs": [
    {
     "data": {
      "text/plain": [
       "[(['PAD', 'PAD', 'PAD'], 'начало', ['год', 'подавать', 'заявка']),\n",
       " (['PAD', 'PAD', 'начало'], 'год', ['подавать', 'заявка', 'оформление']),\n",
       " (['PAD', 'начало', 'год'], 'подавать', ['заявка', 'оформление', 'карта']),\n",
       " (['начало', 'год', 'подавать'],\n",
       "  'заявка',\n",
       "  ['оформление', 'карта', 'одобрить']),\n",
       " (['год', 'подавать', 'заявка'],\n",
       "  'оформление',\n",
       "  ['карта', 'одобрить', 'передумать']),\n",
       " (['подавать', 'заявка', 'оформление'],\n",
       "  'карта',\n",
       "  ['одобрить', 'передумать', 'брать']),\n",
       " (['заявка', 'оформление', 'карта'],\n",
       "  'одобрить',\n",
       "  ['передумать', 'брать', 'карта']),\n",
       " (['оформление', 'карта', 'одобрить'],\n",
       "  'передумать',\n",
       "  ['брать', 'карта', 'PAD']),\n",
       " (['карта', 'одобрить', 'передумать'], 'брать', ['карта', 'PAD', 'PAD']),\n",
       " (['одобрить', 'передумать', 'брать'], 'карта', ['PAD', 'PAD', 'PAD'])]"
      ]
     },
     "execution_count": 11,
     "metadata": {},
     "output_type": "execute_result"
    }
   ],
   "source": [
    "cbow_split(sample_text, window=3)"
   ]
  },
  {
   "cell_type": "markdown",
   "metadata": {},
   "source": [
    "# Expected\n",
    "\n",
    "```python\n",
    "[(['PAD', 'PAD', 'PAD'], 'вопрос', ['почему', 'например', 'китайский']),\n",
    " (['PAD', 'PAD', 'вопрос'], 'почему', ['например', 'китайский', 'японский']),\n",
    " (['PAD', 'вопрос', 'почему'], 'например', ['китайский', 'японский', 'UNK']),\n",
    " (['вопрос', 'почему', 'например'], 'китайский', ['японский', 'UNK', 'PAD']),\n",
    " (['почему', 'например', 'китайский'], 'японский', ['UNK', 'PAD', 'PAD']),\n",
    " (['например', 'китайский', 'японский'], 'UNK', ['PAD', 'PAD', 'PAD'])]\n",
    "```"
   ]
  },
  {
   "cell_type": "markdown",
   "metadata": {},
   "source": [
    "# Skipgram"
   ]
  },
  {
   "cell_type": "code",
   "execution_count": 12,
   "metadata": {},
   "outputs": [
    {
     "data": {
      "text/plain": [
       "'начало год подавать заявка оформление карта одобрить передумать брать карта'"
      ]
     },
     "execution_count": 12,
     "metadata": {},
     "output_type": "execute_result"
    }
   ],
   "source": [
    "' '.join(sample_text)"
   ]
  },
  {
   "cell_type": "markdown",
   "metadata": {},
   "source": [
    "# Реализуйте разделение предложения на примеры методом Skipgram"
   ]
  },
  {
   "cell_type": "code",
   "execution_count": 13,
   "metadata": {},
   "outputs": [],
   "source": [
    "def skipgram_split(tokens, window):\n",
    "    \n",
    "    splits = []\n",
    "    \n",
    "    # CODE\n",
    "    \n",
    "    for i in range(0, len(tokens)):\n",
    "        for j in range(i-window,i+window+1): \n",
    "            if i != j and j >= 0 and j < len(tokens): \n",
    "                splits.append((tokens[j], tokens[i])) \n",
    "    \n",
    "    return splits"
   ]
  },
  {
   "cell_type": "code",
   "execution_count": 14,
   "metadata": {},
   "outputs": [],
   "source": [
    "splits = skipgram_split(sample_text, window=2)"
   ]
  },
  {
   "cell_type": "code",
   "execution_count": 15,
   "metadata": {},
   "outputs": [
    {
     "name": "stdout",
     "output_type": "stream",
     "text": [
      "Контекст: год\n",
      "Центральное слово: начало\n",
      "\n",
      "Контекст: подавать\n",
      "Центральное слово: начало\n",
      "\n",
      "Контекст: начало\n",
      "Центральное слово: год\n",
      "\n",
      "Контекст: подавать\n",
      "Центральное слово: год\n",
      "\n",
      "Контекст: заявка\n",
      "Центральное слово: год\n",
      "\n",
      "Контекст: начало\n",
      "Центральное слово: подавать\n",
      "\n",
      "Контекст: год\n",
      "Центральное слово: подавать\n",
      "\n",
      "Контекст: заявка\n",
      "Центральное слово: подавать\n",
      "\n",
      "Контекст: оформление\n",
      "Центральное слово: подавать\n",
      "\n",
      "Контекст: год\n",
      "Центральное слово: заявка\n",
      "\n",
      "Контекст: подавать\n",
      "Центральное слово: заявка\n",
      "\n",
      "Контекст: оформление\n",
      "Центральное слово: заявка\n",
      "\n",
      "Контекст: карта\n",
      "Центральное слово: заявка\n",
      "\n",
      "Контекст: подавать\n",
      "Центральное слово: оформление\n",
      "\n",
      "Контекст: заявка\n",
      "Центральное слово: оформление\n",
      "\n",
      "Контекст: карта\n",
      "Центральное слово: оформление\n",
      "\n",
      "Контекст: одобрить\n",
      "Центральное слово: оформление\n",
      "\n",
      "Контекст: заявка\n",
      "Центральное слово: карта\n",
      "\n",
      "Контекст: оформление\n",
      "Центральное слово: карта\n",
      "\n",
      "Контекст: одобрить\n",
      "Центральное слово: карта\n",
      "\n",
      "Контекст: передумать\n",
      "Центральное слово: карта\n",
      "\n",
      "Контекст: оформление\n",
      "Центральное слово: одобрить\n",
      "\n",
      "Контекст: карта\n",
      "Центральное слово: одобрить\n",
      "\n",
      "Контекст: передумать\n",
      "Центральное слово: одобрить\n",
      "\n",
      "Контекст: брать\n",
      "Центральное слово: одобрить\n",
      "\n",
      "Контекст: карта\n",
      "Центральное слово: передумать\n",
      "\n",
      "Контекст: одобрить\n",
      "Центральное слово: передумать\n",
      "\n",
      "Контекст: брать\n",
      "Центральное слово: передумать\n",
      "\n",
      "Контекст: карта\n",
      "Центральное слово: передумать\n",
      "\n",
      "Контекст: одобрить\n",
      "Центральное слово: брать\n",
      "\n",
      "Контекст: передумать\n",
      "Центральное слово: брать\n",
      "\n",
      "Контекст: карта\n",
      "Центральное слово: брать\n",
      "\n",
      "Контекст: передумать\n",
      "Центральное слово: карта\n",
      "\n",
      "Контекст: брать\n",
      "Центральное слово: карта\n",
      "\n"
     ]
    }
   ],
   "source": [
    "for sample in splits:\n",
    "    print('Контекст:', sample[0])\n",
    "    print('Центральное слово:', sample[1], end='\\n\\n')"
   ]
  },
  {
   "cell_type": "code",
   "execution_count": 16,
   "metadata": {},
   "outputs": [
    {
     "data": {
      "text/plain": [
       "[('год', 'начало'),\n",
       " ('подавать', 'начало'),\n",
       " ('начало', 'год'),\n",
       " ('подавать', 'год'),\n",
       " ('заявка', 'год'),\n",
       " ('начало', 'подавать'),\n",
       " ('год', 'подавать'),\n",
       " ('заявка', 'подавать'),\n",
       " ('оформление', 'подавать'),\n",
       " ('год', 'заявка'),\n",
       " ('подавать', 'заявка'),\n",
       " ('оформление', 'заявка'),\n",
       " ('карта', 'заявка'),\n",
       " ('подавать', 'оформление'),\n",
       " ('заявка', 'оформление'),\n",
       " ('карта', 'оформление'),\n",
       " ('одобрить', 'оформление'),\n",
       " ('заявка', 'карта'),\n",
       " ('оформление', 'карта'),\n",
       " ('одобрить', 'карта'),\n",
       " ('передумать', 'карта'),\n",
       " ('оформление', 'одобрить'),\n",
       " ('карта', 'одобрить'),\n",
       " ('передумать', 'одобрить'),\n",
       " ('брать', 'одобрить'),\n",
       " ('карта', 'передумать'),\n",
       " ('одобрить', 'передумать'),\n",
       " ('брать', 'передумать'),\n",
       " ('карта', 'передумать'),\n",
       " ('одобрить', 'брать'),\n",
       " ('передумать', 'брать'),\n",
       " ('карта', 'брать'),\n",
       " ('передумать', 'карта'),\n",
       " ('брать', 'карта')]"
      ]
     },
     "execution_count": 16,
     "metadata": {},
     "output_type": "execute_result"
    }
   ],
   "source": [
    "skipgram_split(sample_text, window=2)"
   ]
  },
  {
   "cell_type": "markdown",
   "metadata": {},
   "source": [
    "# Expected\n",
    "\n",
    "```python\n",
    "[('почему', 'вопрос'),\n",
    " ('например', 'вопрос'),\n",
    " ('вопрос', 'почему'),\n",
    " ('например', 'почему'),\n",
    " ('китайский', 'почему'),\n",
    " ('вопрос', 'например'),\n",
    " ('почему', 'например'),\n",
    " ('китайский', 'например'),\n",
    " ('японский', 'например'),\n",
    " ('почему', 'китайский'),\n",
    " ('например', 'китайский'),\n",
    " ('японский', 'китайский'),\n",
    " ('UNK', 'китайский'),\n",
    " ('например', 'японский'),\n",
    " ('китайский', 'японский'),\n",
    " ('UNK', 'японский'),\n",
    " ('китайский', 'UNK'),\n",
    " ('японский', 'UNK')]\n",
    "```"
   ]
  },
  {
   "cell_type": "code",
   "execution_count": 17,
   "metadata": {},
   "outputs": [
    {
     "data": {
      "text/plain": [
       "[('год', 'начало'),\n",
       " ('подавать', 'начало'),\n",
       " ('заявка', 'начало'),\n",
       " ('начало', 'год'),\n",
       " ('подавать', 'год'),\n",
       " ('заявка', 'год'),\n",
       " ('оформление', 'год'),\n",
       " ('начало', 'подавать'),\n",
       " ('год', 'подавать'),\n",
       " ('заявка', 'подавать'),\n",
       " ('оформление', 'подавать'),\n",
       " ('карта', 'подавать'),\n",
       " ('начало', 'заявка'),\n",
       " ('год', 'заявка'),\n",
       " ('подавать', 'заявка'),\n",
       " ('оформление', 'заявка'),\n",
       " ('карта', 'заявка'),\n",
       " ('одобрить', 'заявка'),\n",
       " ('год', 'оформление'),\n",
       " ('подавать', 'оформление'),\n",
       " ('заявка', 'оформление'),\n",
       " ('карта', 'оформление'),\n",
       " ('одобрить', 'оформление'),\n",
       " ('передумать', 'оформление'),\n",
       " ('подавать', 'карта'),\n",
       " ('заявка', 'карта'),\n",
       " ('оформление', 'карта'),\n",
       " ('одобрить', 'карта'),\n",
       " ('передумать', 'карта'),\n",
       " ('брать', 'карта'),\n",
       " ('заявка', 'одобрить'),\n",
       " ('оформление', 'одобрить'),\n",
       " ('карта', 'одобрить'),\n",
       " ('передумать', 'одобрить'),\n",
       " ('брать', 'одобрить'),\n",
       " ('карта', 'одобрить'),\n",
       " ('оформление', 'передумать'),\n",
       " ('карта', 'передумать'),\n",
       " ('одобрить', 'передумать'),\n",
       " ('брать', 'передумать'),\n",
       " ('карта', 'передумать'),\n",
       " ('карта', 'брать'),\n",
       " ('одобрить', 'брать'),\n",
       " ('передумать', 'брать'),\n",
       " ('карта', 'брать'),\n",
       " ('одобрить', 'карта'),\n",
       " ('передумать', 'карта'),\n",
       " ('брать', 'карта')]"
      ]
     },
     "execution_count": 17,
     "metadata": {},
     "output_type": "execute_result"
    }
   ],
   "source": [
    "skipgram_split(sample_text, window=3)"
   ]
  },
  {
   "cell_type": "markdown",
   "metadata": {},
   "source": [
    "# Expected\n",
    "\n",
    "```python\n",
    "[('почему', 'вопрос'),\n",
    " ('например', 'вопрос'),\n",
    " ('китайский', 'вопрос'),\n",
    " ('вопрос', 'почему'),\n",
    " ('например', 'почему'),\n",
    " ('китайский', 'почему'),\n",
    " ('японский', 'почему'),\n",
    " ('вопрос', 'например'),\n",
    " ('почему', 'например'),\n",
    " ('китайский', 'например'),\n",
    " ('японский', 'например'),\n",
    " ('UNK', 'например'),\n",
    " ('вопрос', 'китайский'),\n",
    " ('почему', 'китайский'),\n",
    " ('например', 'китайский'),\n",
    " ('японский', 'китайский'),\n",
    " ('UNK', 'китайский'),\n",
    " ('почему', 'японский'),\n",
    " ('например', 'японский'),\n",
    " ('китайский', 'японский'),\n",
    " ('UNK', 'японский'),\n",
    " ('например', 'UNK'),\n",
    " ('китайский', 'UNK'),\n",
    " ('японский', 'UNK')]\n",
    "```"
   ]
  },
  {
   "cell_type": "code",
   "execution_count": 18,
   "metadata": {},
   "outputs": [],
   "source": [
    "word2index = {}\n",
    "\n",
    "for text in corpus:\n",
    "    for token in text:\n",
    "        if token not in word2index:\n",
    "            word2index[token] = len(word2index)"
   ]
  },
  {
   "cell_type": "code",
   "execution_count": 19,
   "metadata": {},
   "outputs": [
    {
     "data": {
      "text/plain": [
       "13120"
      ]
     },
     "execution_count": 19,
     "metadata": {},
     "output_type": "execute_result"
    }
   ],
   "source": [
    "len(word2index)"
   ]
  },
  {
   "cell_type": "code",
   "execution_count": 20,
   "metadata": {},
   "outputs": [
    {
     "data": {
      "text/plain": [
       "136"
      ]
     },
     "execution_count": 20,
     "metadata": {},
     "output_type": "execute_result"
    }
   ],
   "source": [
    "word2index['UNK']"
   ]
  },
  {
   "cell_type": "code",
   "execution_count": 21,
   "metadata": {},
   "outputs": [
    {
     "data": {
      "text/plain": [
       "[1577, 2640, 136]"
      ]
     },
     "execution_count": 21,
     "metadata": {},
     "output_type": "execute_result"
    }
   ],
   "source": [
    "[word2index[tok] if tok in word2index else word2index['UNK'] for tok in 'мама мыть рама'.split()]"
   ]
  },
  {
   "cell_type": "markdown",
   "metadata": {},
   "source": [
    "# Torch Dataset\n",
    "В торче есть очень удобная читалка данных"
   ]
  },
  {
   "cell_type": "code",
   "execution_count": 22,
   "metadata": {},
   "outputs": [],
   "source": [
    "from torch.utils.data import Dataset, DataLoader"
   ]
  },
  {
   "cell_type": "code",
   "execution_count": 23,
   "metadata": {},
   "outputs": [],
   "source": [
    "# игрушечный датасет\n",
    "# 121535 примера, 4 фичи, 3 класса\n",
    "some_data_x = np.random.rand(121535, 4)\n",
    "some_data_y = np.random.randint(3, size=(121535,))"
   ]
  },
  {
   "cell_type": "code",
   "execution_count": 24,
   "metadata": {},
   "outputs": [
    {
     "data": {
      "text/plain": [
       "array([[0.28878459, 0.38039216, 0.11224513, 0.58694981],\n",
       "       [0.53072618, 0.04768558, 0.01815138, 0.53512033],\n",
       "       [0.59584523, 0.36503368, 0.19437463, 0.49533443],\n",
       "       [0.90068767, 0.90133628, 0.52385459, 0.94501049],\n",
       "       [0.00778606, 0.82973504, 0.95070977, 0.86591483],\n",
       "       [0.45647649, 0.7063334 , 0.05579499, 0.46476666],\n",
       "       [0.87670623, 0.94242956, 0.78980909, 0.27757266],\n",
       "       [0.87377917, 0.36385703, 0.62191571, 0.39948444],\n",
       "       [0.44249327, 0.42583712, 0.35883309, 0.09424435],\n",
       "       [0.05475669, 0.88698137, 0.11495609, 0.12263587]])"
      ]
     },
     "execution_count": 24,
     "metadata": {},
     "output_type": "execute_result"
    }
   ],
   "source": [
    "# соверешенно игрушечный, просто цифры\n",
    "some_data_x[:10]"
   ]
  },
  {
   "cell_type": "code",
   "execution_count": 25,
   "metadata": {},
   "outputs": [
    {
     "data": {
      "text/plain": [
       "array([0, 1, 2, ..., 1, 0, 0])"
      ]
     },
     "execution_count": 25,
     "metadata": {},
     "output_type": "execute_result"
    }
   ],
   "source": [
    "some_data_y"
   ]
  },
  {
   "cell_type": "code",
   "execution_count": 26,
   "metadata": {},
   "outputs": [],
   "source": [
    "class ToyDataset(Dataset):\n",
    "    \n",
    "    def __init__(self, data_x, data_y):\n",
    "        \n",
    "        super().__init__()\n",
    "        \n",
    "        self.data_x = data_x\n",
    "        self.data_y = data_y\n",
    "        \n",
    "    def __len__(self):\n",
    "        \n",
    "        # Нужно обязательно определить эту функцию\n",
    "        # Должна возвращать размер датасета\n",
    "        \n",
    "        return len(self.data_x)\n",
    "    \n",
    "    def __getitem__(self, idx):\n",
    "        \n",
    "        # Еще нужно определить этот метод\n",
    "        # То есть как мы будем доставать наши данные по индексу\n",
    "        \n",
    "        return self.data_x[idx], self.data_y[idx]"
   ]
  },
  {
   "cell_type": "code",
   "execution_count": 27,
   "metadata": {},
   "outputs": [],
   "source": [
    "some_dataset = ToyDataset(some_data_x, some_data_y)"
   ]
  },
  {
   "cell_type": "code",
   "execution_count": 28,
   "metadata": {},
   "outputs": [
    {
     "data": {
      "text/plain": [
       "((array([0.45647649, 0.7063334 , 0.05579499, 0.46476666]), 1),\n",
       " (array([0.39969883, 0.77214412, 0.12860213, 0.15964675]), 1))"
      ]
     },
     "execution_count": 28,
     "metadata": {},
     "output_type": "execute_result"
    }
   ],
   "source": [
    "some_dataset[5], some_dataset[467]"
   ]
  },
  {
   "cell_type": "code",
   "execution_count": 29,
   "metadata": {},
   "outputs": [],
   "source": [
    "some_loader = DataLoader(some_dataset, batch_size=16, shuffle=True)"
   ]
  },
  {
   "cell_type": "code",
   "execution_count": 30,
   "metadata": {},
   "outputs": [
    {
     "data": {
      "text/plain": [
       "(16, tensor([[0.6761, 0.6545, 0.9734, 0.7132],\n",
       "         [0.0649, 0.9941, 0.8141, 0.7739],\n",
       "         [0.7591, 0.0892, 0.9868, 0.5314],\n",
       "         [0.7437, 0.8611, 0.3147, 0.0258],\n",
       "         [0.4821, 0.6651, 0.7103, 0.3544],\n",
       "         [0.7257, 0.7556, 0.8889, 0.3145],\n",
       "         [0.1772, 0.0999, 0.9734, 0.9076],\n",
       "         [0.6849, 0.7898, 0.5860, 0.4216],\n",
       "         [0.8813, 0.2124, 0.1331, 0.8812],\n",
       "         [0.2476, 0.4281, 0.3823, 0.6870],\n",
       "         [0.7461, 0.4896, 0.9822, 0.9168],\n",
       "         [0.0217, 0.4750, 0.4509, 0.4114],\n",
       "         [0.6082, 0.0261, 0.6752, 0.0463],\n",
       "         [0.1143, 0.3201, 0.1070, 0.5157],\n",
       "         [0.9709, 0.7156, 0.0254, 0.6180],\n",
       "         [0.9138, 0.4146, 0.7012, 0.8099]], dtype=torch.float64))"
      ]
     },
     "execution_count": 30,
     "metadata": {},
     "output_type": "execute_result"
    }
   ],
   "source": [
    "for x, y in some_loader:\n",
    "    break\n",
    "    \n",
    "len(x), x"
   ]
  },
  {
   "cell_type": "code",
   "execution_count": 31,
   "metadata": {},
   "outputs": [
    {
     "data": {
      "text/plain": [
       "15"
      ]
     },
     "execution_count": 31,
     "metadata": {},
     "output_type": "execute_result"
    }
   ],
   "source": [
    "for x, y in some_loader:\n",
    "    pass\n",
    "\n",
    "len(x)"
   ]
  },
  {
   "cell_type": "code",
   "execution_count": 32,
   "metadata": {},
   "outputs": [
    {
     "data": {
      "text/plain": [
       "15"
      ]
     },
     "execution_count": 32,
     "metadata": {},
     "output_type": "execute_result"
    }
   ],
   "source": [
    "# почему 13?\n",
    "# потому что количество наших данных нацело не делится на 16\n",
    "# и поэтому последний батч меньше 16-ти\n",
    "len(some_dataset) % 16"
   ]
  },
  {
   "cell_type": "markdown",
   "metadata": {},
   "source": [
    "# А зачем?"
   ]
  },
  {
   "cell_type": "code",
   "execution_count": 33,
   "metadata": {},
   "outputs": [],
   "source": [
    "class ToyDataset(Dataset):\n",
    "    \n",
    "    def __init__(self, data_x, data_y):\n",
    "        \n",
    "        super().__init__()\n",
    "        \n",
    "        self.data_x = data_x\n",
    "        self.data_y = data_y\n",
    "        \n",
    "    def __len__(self):\n",
    "        \n",
    "        # Нужно обязательно определить эту функцию\n",
    "        # Должна возвращать размер датасета\n",
    "        \n",
    "        return len(self.data_x)\n",
    "    \n",
    "    @staticmethod\n",
    "    def add_pow_features(x, n=2):\n",
    "        \n",
    "        return np.concatenate([x, x ** n]) \n",
    "    \n",
    "    @staticmethod\n",
    "    def add_log_features(x):\n",
    "        \n",
    "        return np.concatenate([x, np.log(x)]) \n",
    "    \n",
    "    def __getitem__(self, idx):\n",
    "        \n",
    "        # Еще нужно определить этот метод\n",
    "        # То есть как мы будем доставать наши данные по индексу\n",
    "        \n",
    "        x = self.data_x[idx]\n",
    "        \n",
    "        # внутри датасета мы можем делать все что угодно с нашими данными\n",
    "        # например выше определим функции, которые добавляют степенные фичи\n",
    "        x = self.add_pow_features(x, n=2)\n",
    "        x = self.add_pow_features(x, n=3)\n",
    "        # и еще возьмем логарифмические фичи\n",
    "        x = self.add_log_features(x)\n",
    "        \n",
    "        y = self.data_y[idx]\n",
    "        \n",
    "        return x, y"
   ]
  },
  {
   "cell_type": "code",
   "execution_count": 34,
   "metadata": {},
   "outputs": [],
   "source": [
    "toy_dataset = ToyDataset(some_data_x, some_data_y)"
   ]
  },
  {
   "cell_type": "code",
   "execution_count": 35,
   "metadata": {},
   "outputs": [],
   "source": [
    "toy_loader = DataLoader(dataset=toy_dataset, batch_size=128)"
   ]
  },
  {
   "cell_type": "code",
   "execution_count": 36,
   "metadata": {},
   "outputs": [],
   "source": [
    "for x, y in toy_loader:\n",
    "    break"
   ]
  },
  {
   "cell_type": "code",
   "execution_count": 37,
   "metadata": {},
   "outputs": [
    {
     "data": {
      "text/plain": [
       "torch.Size([128, 32])"
      ]
     },
     "execution_count": 37,
     "metadata": {},
     "output_type": "execute_result"
    }
   ],
   "source": [
    "x.shape"
   ]
  },
  {
   "cell_type": "code",
   "execution_count": 38,
   "metadata": {},
   "outputs": [
    {
     "data": {
      "text/plain": [
       "tensor([[ 2.8878e-01,  3.8039e-01,  1.1225e-01,  ..., -5.7993e+00,\n",
       "         -1.3122e+01, -3.1969e+00],\n",
       "        [ 5.3073e-01,  4.7686e-02,  1.8151e-02,  ..., -1.8259e+01,\n",
       "         -2.4054e+01, -3.7516e+00],\n",
       "        [ 5.9585e-01,  3.6503e-01,  1.9437e-01,  ..., -6.0466e+00,\n",
       "         -9.8278e+00, -4.2151e+00],\n",
       "        ...,\n",
       "        [ 6.1900e-01,  6.0609e-01,  8.4095e-01,  ..., -3.0043e+00,\n",
       "         -1.0394e+00, -1.4368e+01],\n",
       "        [ 1.8725e-01,  5.1902e-01,  8.3604e-01,  ..., -3.9349e+00,\n",
       "         -1.0745e+00, -1.6954e+00],\n",
       "        [ 2.2924e-02,  1.2203e-01,  9.8617e-01,  ..., -1.2621e+01,\n",
       "         -8.3578e-02, -1.4091e+01]], dtype=torch.float64)"
      ]
     },
     "execution_count": 38,
     "metadata": {},
     "output_type": "execute_result"
    }
   ],
   "source": [
    "# заметим, что мы сразу получаем торчовый формат данных\n",
    "x"
   ]
  },
  {
   "cell_type": "code",
   "execution_count": 39,
   "metadata": {},
   "outputs": [
    {
     "data": {
      "text/plain": [
       "tensor([0, 1, 2, 1, 0, 1, 1, 0, 1, 2, 2, 1, 2, 1, 1, 0, 0, 1, 0, 1, 1, 2, 2, 1,\n",
       "        2, 0, 1, 0, 1, 0, 2, 0, 1, 2, 1, 0, 1, 0, 2, 2, 1, 2, 1, 0, 2, 1, 0, 2,\n",
       "        0, 2, 0, 0, 2, 1, 2, 1, 2, 2, 2, 1, 2, 1, 0, 2, 1, 2, 1, 0, 0, 1, 2, 1,\n",
       "        0, 2, 0, 0, 1, 2, 2, 0, 2, 0, 2, 2, 0, 0, 2, 1, 2, 2, 2, 2, 1, 0, 2, 2,\n",
       "        0, 1, 1, 0, 0, 1, 1, 2, 1, 2, 1, 1, 2, 0, 0, 1, 2, 0, 0, 2, 1, 0, 2, 2,\n",
       "        1, 2, 2, 0, 2, 2, 2, 2])"
      ]
     },
     "execution_count": 39,
     "metadata": {},
     "output_type": "execute_result"
    }
   ],
   "source": [
    "y"
   ]
  },
  {
   "cell_type": "markdown",
   "metadata": {},
   "source": [
    "# Если вы ничего здесь не понимаете, то вернитесь в конец первой домашки, там все объясняется"
   ]
  },
  {
   "cell_type": "code",
   "execution_count": 40,
   "metadata": {},
   "outputs": [],
   "source": [
    "model = torch.nn.Sequential(torch.nn.Linear(32, 16),\n",
    "                            torch.nn.ReLU(),\n",
    "                            torch.nn.Linear(16, 8),\n",
    "                            torch.nn.ReLU(),\n",
    "                            torch.nn.Linear(8, 3))\n",
    "\n",
    "criterion = torch.nn.CrossEntropyLoss()"
   ]
  },
  {
   "cell_type": "code",
   "execution_count": 41,
   "metadata": {},
   "outputs": [
    {
     "data": {
      "text/plain": [
       "1.133729100227356"
      ]
     },
     "execution_count": 41,
     "metadata": {},
     "output_type": "execute_result"
    }
   ],
   "source": [
    "with torch.no_grad():\n",
    "\n",
    "    prediction = model(x.float())\n",
    "\n",
    "    loss = criterion(prediction, y)\n",
    "    \n",
    "loss.item()"
   ]
  },
  {
   "cell_type": "markdown",
   "metadata": {},
   "source": [
    "# Боевые датасеты"
   ]
  },
  {
   "cell_type": "code",
   "execution_count": 42,
   "metadata": {},
   "outputs": [],
   "source": [
    "class CBOWDataset(Dataset):\n",
    "\n",
    "    def __init__(self,\n",
    "                 corpus,\n",
    "                 word2index,\n",
    "                 window=2,\n",
    "                 unk_token='UNK',\n",
    "                 pad_token='PAD',\n",
    "                 collect_verbose=True):\n",
    "\n",
    "        self.corpus = corpus\n",
    "        self.word2index = word2index\n",
    "        self.index2word = {value: key for key, value in self.word2index.items()}\n",
    "        self.window = window\n",
    "\n",
    "        self.unk_token = unk_token\n",
    "        self.unk_index = self.word2index[self.unk_token]\n",
    "\n",
    "        self.pad_token = pad_token\n",
    "        self.pad_index = len(self.word2index)\n",
    "\n",
    "        self.collect_verbose = collect_verbose\n",
    "\n",
    "        self.data = []\n",
    "\n",
    "        self.collect_data()\n",
    "\n",
    "    def __len__(self):\n",
    "\n",
    "        return len(self.data)\n",
    "\n",
    "    def _split_function(self, tokenized_text):\n",
    "\n",
    "        splits = []\n",
    "\n",
    "        for n in range(len(tokenized_text)):\n",
    "            left_context = tokenized_text[np.maximum(n - self.window, 0):n]\n",
    "            left_context = ([self.pad_index] * (self.window - len(left_context))) + left_context\n",
    "\n",
    "            central_word = tokenized_text[n]\n",
    "\n",
    "            right_context = tokenized_text[n + 1:n + self.window + 1]\n",
    "            right_context = right_context + ([self.pad_index] * (self.window - len(right_context)))\n",
    "\n",
    "            splits.append((left_context + right_context, central_word))\n",
    "\n",
    "        return splits\n",
    "\n",
    "    def indexing(self, tokenized_text):\n",
    "\n",
    "        return [self.word2index[token] if token in self.word2index else self.unk_index for token in tokenized_text]\n",
    "\n",
    "    def collect_data(self):\n",
    "\n",
    "        corpus = tqdm(self.corpus, disable=not self.collect_verbose)\n",
    "\n",
    "        for tokenized_text in corpus:\n",
    "            indexed_text = self.indexing(tokenized_text)\n",
    "            cbow_examples = self._split_function(indexed_text)\n",
    "\n",
    "            self.data.extend(cbow_examples)\n",
    "\n",
    "    def __getitem__(self, idx):\n",
    "\n",
    "        context, central_word = self.data[idx]\n",
    "\n",
    "        context = torch.Tensor(context).long()\n",
    "\n",
    "        return context, central_word"
   ]
  },
  {
   "cell_type": "markdown",
   "metadata": {},
   "source": [
    "# Мы будем учить модель Skipgram\n",
    "Реализуйте читалку данных"
   ]
  },
  {
   "cell_type": "code",
   "execution_count": 43,
   "metadata": {},
   "outputs": [],
   "source": [
    "class SkipgramDataset(Dataset):\n",
    "\n",
    "    def __init__(self,\n",
    "                 corpus,\n",
    "                 word2index,\n",
    "                 window=2,\n",
    "                 unk_token='UNK',\n",
    "                 collect_verbose=True):\n",
    "\n",
    "        self.corpus = corpus\n",
    "        self.word2index = word2index\n",
    "        self.index2word = {value: key for key, value in self.word2index.items()}\n",
    "        self.window = window\n",
    "\n",
    "        self.unk_token = unk_token\n",
    "        self.unk_index = self.word2index[self.unk_token]\n",
    "\n",
    "        self.collect_verbose = collect_verbose\n",
    "\n",
    "        self.data = []\n",
    "\n",
    "        self.collect_data()\n",
    "\n",
    "    def __len__(self):\n",
    "\n",
    "        return len(self.data)\n",
    "\n",
    "    def _split_function(self, tokenized_text):\n",
    "        \n",
    "        # CODE\n",
    "        \n",
    "        # вставить здесь функцию, которые вы писали раньше\n",
    "\n",
    "        splits = []\n",
    "        \n",
    "        for i in range(len(tokenized_text)):\n",
    "            for j in range(i-self.window,i+self.window+1): \n",
    "                if i != j and j >= 0 and j < len(tokenized_text): \n",
    "                    splits.append((tokenized_text[j], tokenized_text[i])) \n",
    "\n",
    "        return splits\n",
    "\n",
    "    def indexing(self, tokenized_text):\n",
    "\n",
    "        return [self.word2index[token] if token in self.word2index else self.unk_index for token in tokenized_text]\n",
    "\n",
    "    def collect_data(self):\n",
    "\n",
    "        corpus = tqdm(self.corpus, disable=not self.collect_verbose)\n",
    "\n",
    "        for tokenized_text in corpus:\n",
    "            indexed_text = self.indexing(tokenized_text)\n",
    "            skipgram_examples = self._split_function(indexed_text)\n",
    "\n",
    "            self.data.extend(skipgram_examples)\n",
    "\n",
    "    def __getitem__(self, idx):\n",
    "        \n",
    "        # CODE\n",
    "        \n",
    "        context, central_word = self.data[idx]\n",
    "\n",
    "        #context = torch.Tensor(context).long()\n",
    "\n",
    "        return central_word, context"
   ]
  },
  {
   "cell_type": "code",
   "execution_count": 44,
   "metadata": {},
   "outputs": [],
   "source": [
    "#from word2vec_utils import SkipgramDataset"
   ]
  },
  {
   "cell_type": "code",
   "execution_count": 45,
   "metadata": {
    "scrolled": true
   },
   "outputs": [
    {
     "name": "stderr",
     "output_type": "stream",
     "text": [
      "100%|██████████| 100000/100000 [00:01<00:00, 70996.62it/s]\n"
     ]
    }
   ],
   "source": [
    "dataset = SkipgramDataset(corpus, word2index)"
   ]
  },
  {
   "cell_type": "code",
   "execution_count": 46,
   "metadata": {},
   "outputs": [],
   "source": [
    "BATCH_SIZE = 512"
   ]
  },
  {
   "cell_type": "code",
   "execution_count": 47,
   "metadata": {},
   "outputs": [],
   "source": [
    "dataset_loader = DataLoader(dataset, shuffle=True, batch_size=BATCH_SIZE)"
   ]
  },
  {
   "cell_type": "code",
   "execution_count": 48,
   "metadata": {},
   "outputs": [],
   "source": [
    "for x, y in dataset_loader:\n",
    "    break"
   ]
  },
  {
   "cell_type": "code",
   "execution_count": 49,
   "metadata": {},
   "outputs": [
    {
     "data": {
      "text/plain": [
       "tensor([ 644,  293,  279, 4848,   31])"
      ]
     },
     "execution_count": 49,
     "metadata": {},
     "output_type": "execute_result"
    }
   ],
   "source": [
    "x[:5]"
   ]
  },
  {
   "cell_type": "code",
   "execution_count": 50,
   "metadata": {},
   "outputs": [
    {
     "data": {
      "text/plain": [
       "tensor([2077,  591,  112, 5641,  345])"
      ]
     },
     "execution_count": 50,
     "metadata": {},
     "output_type": "execute_result"
    }
   ],
   "source": [
    "y[:5]"
   ]
  },
  {
   "cell_type": "code",
   "execution_count": 51,
   "metadata": {},
   "outputs": [
    {
     "name": "stdout",
     "output_type": "stream",
     "text": [
      "['реклама', 'обратиться', 'вернуть', 'переговоры', 'сотрудник']\n",
      "['мошенничество', 'звонок', 'заблокировать', 'смольный', 'заявление']\n"
     ]
    }
   ],
   "source": [
    "print([dataset.index2word[w] for w in x[:5].numpy()])\n",
    "print([dataset.index2word[w] for w in y[:5].numpy()])"
   ]
  },
  {
   "cell_type": "code",
   "execution_count": 52,
   "metadata": {},
   "outputs": [
    {
     "data": {
      "text/plain": [
       "(torch.Size([512]), torch.Size([512]))"
      ]
     },
     "execution_count": 52,
     "metadata": {},
     "output_type": "execute_result"
    }
   ],
   "source": [
    "x.shape, y.shape"
   ]
  },
  {
   "cell_type": "code",
   "execution_count": 53,
   "metadata": {},
   "outputs": [],
   "source": [
    "class CBOW(torch.nn.Module):\n",
    "    \n",
    "    def __init__(self, vocab_size, embedding_dim, pad_index):\n",
    "        \n",
    "        super().__init__()\n",
    "        \n",
    "        if pad_index > 0:\n",
    "            vocab_size += 1\n",
    "        \n",
    "        self.in_embedding = torch.nn.Embedding(num_embeddings=vocab_size, \n",
    "                                               embedding_dim=embedding_dim,\n",
    "                                               padding_idx=pad_index)\n",
    "        \n",
    "        self.out_embedding = torch.nn.Linear(in_features=embedding_dim,\n",
    "                                             out_features=vocab_size, bias=False)\n",
    "        \n",
    "    def forward(self, x):\n",
    "        \n",
    "        x = self.in_embedding(x).sum(dim=-2)\n",
    "        x = self.out_embedding(x)\n",
    "        \n",
    "        return x"
   ]
  },
  {
   "cell_type": "markdown",
   "metadata": {},
   "source": [
    "# Мы будем учить модель Skipgram\n",
    "Реализуйте ее"
   ]
  },
  {
   "cell_type": "code",
   "execution_count": 54,
   "metadata": {},
   "outputs": [],
   "source": [
    "# CODE\n",
    "\n",
    "class SkipGram(torch.nn.Module):\n",
    "    \n",
    "    def __init__(self, vocab_size, embedding_dim):\n",
    "        \n",
    "        super().__init__()\n",
    "        \n",
    "        self.in_embedding = torch.nn.Embedding(num_embeddings=vocab_size, \n",
    "                                               embedding_dim=embedding_dim)\n",
    "        \n",
    "        self.out_embedding = torch.nn.Linear(in_features=embedding_dim,\n",
    "                                             out_features=vocab_size, bias=False)\n",
    "        \n",
    "#         self.softmax = torch.nn.Softmax(dim=-1)\n",
    "        \n",
    "    def forward(self, x):\n",
    "        \n",
    "        x = self.in_embedding(x)\n",
    "        x = self.out_embedding(x)\n",
    "#         x = self.softmax(x)\n",
    "        \n",
    "        return x"
   ]
  },
  {
   "cell_type": "code",
   "execution_count": 55,
   "metadata": {},
   "outputs": [],
   "source": [
    "#from word2vec_utils import SkipGram"
   ]
  },
  {
   "cell_type": "code",
   "execution_count": 56,
   "metadata": {},
   "outputs": [],
   "source": [
    "# размерность эмбеддинга\n",
    "# маленькая, чтобы мы могли недолго поучить ворд2век и увидеть результаты\n",
    "EMBEDDING_DIM = 20"
   ]
  },
  {
   "cell_type": "code",
   "execution_count": 57,
   "metadata": {},
   "outputs": [],
   "source": [
    "model = SkipGram(vocab_size=len(word2index), embedding_dim=EMBEDDING_DIM)"
   ]
  },
  {
   "cell_type": "code",
   "execution_count": 58,
   "metadata": {},
   "outputs": [
    {
     "data": {
      "text/plain": [
       "SkipGram(\n",
       "  (in_embedding): Embedding(13120, 20)\n",
       "  (out_embedding): Linear(in_features=20, out_features=13120, bias=False)\n",
       ")"
      ]
     },
     "execution_count": 58,
     "metadata": {},
     "output_type": "execute_result"
    }
   ],
   "source": [
    "model.cuda()"
   ]
  },
  {
   "cell_type": "code",
   "execution_count": 59,
   "metadata": {},
   "outputs": [
    {
     "data": {
      "text/plain": [
       "torch.Size([512, 13120])"
      ]
     },
     "execution_count": 59,
     "metadata": {},
     "output_type": "execute_result"
    }
   ],
   "source": [
    "with torch.no_grad():\n",
    "    pred = model(x.cuda())\n",
    "\n",
    "pred.shape"
   ]
  },
  {
   "cell_type": "code",
   "execution_count": 60,
   "metadata": {},
   "outputs": [],
   "source": [
    "optimizer = torch.optim.Adam(params=model.parameters(), lr=0.001)\n",
    "\n",
    "# aka loss function\n",
    "criterion = torch.nn.CrossEntropyLoss()"
   ]
  },
  {
   "cell_type": "markdown",
   "metadata": {},
   "source": [
    "# Допишите обучалку"
   ]
  },
  {
   "cell_type": "code",
   "execution_count": 61,
   "metadata": {},
   "outputs": [
    {
     "name": "stderr",
     "output_type": "stream",
     "text": [
      "Epoch 1: 100%|██████████| 2983846/2983846 [00:33<00:00, 89307.17it/s, loss=7.09]\n",
      "Epoch 2: 100%|██████████| 2983846/2983846 [00:33<00:00, 88183.44it/s, loss=6.95]\n",
      "Epoch 3: 100%|██████████| 2983846/2983846 [00:33<00:00, 89426.92it/s, loss=6.89]\n"
     ]
    }
   ],
   "source": [
    "epochs = 3\n",
    "\n",
    "losses = []\n",
    "\n",
    "for n_epoch in range(epochs):\n",
    "\n",
    "    try:\n",
    "\n",
    "        progress_bar = tqdm(total=len(dataset_loader.dataset), desc='Epoch {}'.format(n_epoch + 1))\n",
    "\n",
    "        for x, y in dataset_loader:\n",
    "\n",
    "            # CODE\n",
    "            \n",
    "            optimizer.zero_grad()\n",
    "\n",
    "            y_pred = model(x.cuda())\n",
    "            \n",
    "            loss = criterion(y_pred, y.cuda())\n",
    "            loss.backward()\n",
    "            optimizer.step()\n",
    "            \n",
    "            # CODE\n",
    "            \n",
    "            losses.append(loss.item())\n",
    "            \n",
    "            progress_bar.set_postfix(loss=np.mean(losses[-100:]))\n",
    "\n",
    "            progress_bar.update(x.shape[0])\n",
    "\n",
    "        progress_bar.close()\n",
    "\n",
    "    except KeyboardInterrupt:\n",
    "\n",
    "        progress_bar.close()\n",
    "        break"
   ]
  },
  {
   "cell_type": "code",
   "execution_count": 62,
   "metadata": {},
   "outputs": [
    {
     "data": {
      "text/plain": [
       "[<matplotlib.lines.Line2D at 0x7f3d944aec88>]"
      ]
     },
     "execution_count": 62,
     "metadata": {},
     "output_type": "execute_result"
    },
    {
     "data": {
      "image/png": "[encoded data removed]",
      "text/plain": [
       "<Figure size 432x288 with 1 Axes>"
      ]
     },
     "metadata": {
      "needs_background": "light"
     },
     "output_type": "display_data"
    }
   ],
   "source": [
    "plt.title('SkipGram Training Process')\n",
    "plt.xlabel('Iterations')\n",
    "plt.ylabel('Loss')\n",
    "plt.grid()\n",
    "plt.plot(losses)"
   ]
  },
  {
   "cell_type": "code",
   "execution_count": 63,
   "metadata": {},
   "outputs": [],
   "source": [
    "# проверка, что хоть что-то выучилось\n",
    "assert np.mean(losses[-1000:]) < 7.5"
   ]
  },
  {
   "cell_type": "code",
   "execution_count": 64,
   "metadata": {},
   "outputs": [],
   "source": [
    "embedding_matrix = model.in_embedding.weight.detach()"
   ]
  },
  {
   "cell_type": "code",
   "execution_count": 65,
   "metadata": {},
   "outputs": [],
   "source": [
    "def cos_sim(embedding_matrix, token2id, word1, word2):\n",
    "    \n",
    "    i1 = token2id[word1]\n",
    "    i2 = token2id[word2]\n",
    "    \n",
    "    v1, v2 = embedding_matrix[i1], embedding_matrix[i2]\n",
    "    \n",
    "    v1_n = v1.div(v1.norm(keepdim=True))\n",
    "    v2_n = v2.div(v2.norm(keepdim=True))\n",
    "    \n",
    "    similarity = torch.dot(v1_n, v2_n).item()\n",
    "    \n",
    "    return similarity"
   ]
  },
  {
   "cell_type": "markdown",
   "metadata": {},
   "source": [
    "# Косинусная близость\n",
    "От 0 до 1, где 0 - вектора абсолютно разные, где 1 - идентичные."
   ]
  },
  {
   "cell_type": "code",
   "execution_count": 66,
   "metadata": {},
   "outputs": [
    {
     "data": {
      "text/plain": [
       "0.6989378333091736"
      ]
     },
     "execution_count": 66,
     "metadata": {},
     "output_type": "execute_result"
    }
   ],
   "source": [
    "cos_sim(embedding_matrix, word2index, 'день', 'месяц')"
   ]
  },
  {
   "cell_type": "code",
   "execution_count": 67,
   "metadata": {},
   "outputs": [
    {
     "data": {
      "text/plain": [
       "0.41423436999320984"
      ]
     },
     "execution_count": 67,
     "metadata": {},
     "output_type": "execute_result"
    }
   ],
   "source": [
    "cos_sim(embedding_matrix, word2index, 'минута', 'месяц')"
   ]
  },
  {
   "cell_type": "code",
   "execution_count": 68,
   "metadata": {},
   "outputs": [
    {
     "data": {
      "text/plain": [
       "0.5767256021499634"
      ]
     },
     "execution_count": 68,
     "metadata": {},
     "output_type": "execute_result"
    }
   ],
   "source": [
    "cos_sim(embedding_matrix, word2index, 'сотрудник', 'сотрудница')"
   ]
  },
  {
   "cell_type": "code",
   "execution_count": 69,
   "metadata": {},
   "outputs": [
    {
     "data": {
      "text/plain": [
       "0.19721204042434692"
      ]
     },
     "execution_count": 69,
     "metadata": {},
     "output_type": "execute_result"
    }
   ],
   "source": [
    "cos_sim(embedding_matrix, word2index, 'вклад', 'перевод')"
   ]
  },
  {
   "cell_type": "code",
   "execution_count": 70,
   "metadata": {},
   "outputs": [
    {
     "data": {
      "text/plain": [
       "-0.15932944416999817"
      ]
     },
     "execution_count": 70,
     "metadata": {},
     "output_type": "execute_result"
    }
   ],
   "source": [
    "cos_sim(embedding_matrix, word2index, 'король', 'королева')"
   ]
  },
  {
   "cell_type": "code",
   "execution_count": 71,
   "metadata": {},
   "outputs": [
    {
     "data": {
      "text/plain": [
       "'Косинусная близость слова \"день\" к случайному выбраному слову \"доходность\" равна 0.162'"
      ]
     },
     "execution_count": 71,
     "metadata": {},
     "output_type": "execute_result"
    }
   ],
   "source": [
    "random_word = random.choice(list(word2index.keys()))\n",
    "sim = cos_sim(embedding_matrix, word2index, 'день', random_word)\n",
    "'Косинусная близость слова \"день\" к случайному выбраному слову \"{}\" равна {:.3f}'.format(random_word, sim)"
   ]
  },
  {
   "cell_type": "code",
   "execution_count": 72,
   "metadata": {},
   "outputs": [],
   "source": [
    "freq = {}\n",
    "\n",
    "for text in corpus:\n",
    "    for token in text:\n",
    "        if token in freq:\n",
    "            freq[token] += 1\n",
    "        else:\n",
    "            freq[token] = 1"
   ]
  },
  {
   "cell_type": "code",
   "execution_count": 73,
   "metadata": {},
   "outputs": [],
   "source": [
    "sorted_freq = [(k, freq[k]) for k in sorted(freq, key=freq.get, reverse=True)]\n",
    "top_sorted_freq = sorted_freq[0:200]"
   ]
  },
  {
   "cell_type": "code",
   "execution_count": 74,
   "metadata": {},
   "outputs": [
    {
     "name": "stdout",
     "output_type": "stream",
     "text": [
      "[t-SNE] Computing 91 nearest neighbors...\n",
      "[t-SNE] Indexed 13120 samples in 0.012s...\n",
      "[t-SNE] Computed neighbors for 13120 samples in 5.941s...\n",
      "[t-SNE] Computed conditional probabilities for sample 1000 / 13120\n",
      "[t-SNE] Computed conditional probabilities for sample 2000 / 13120\n",
      "[t-SNE] Computed conditional probabilities for sample 3000 / 13120\n",
      "[t-SNE] Computed conditional probabilities for sample 4000 / 13120\n",
      "[t-SNE] Computed conditional probabilities for sample 5000 / 13120\n",
      "[t-SNE] Computed conditional probabilities for sample 6000 / 13120\n",
      "[t-SNE] Computed conditional probabilities for sample 7000 / 13120\n",
      "[t-SNE] Computed conditional probabilities for sample 8000 / 13120\n",
      "[t-SNE] Computed conditional probabilities for sample 9000 / 13120\n",
      "[t-SNE] Computed conditional probabilities for sample 10000 / 13120\n",
      "[t-SNE] Computed conditional probabilities for sample 11000 / 13120\n",
      "[t-SNE] Computed conditional probabilities for sample 12000 / 13120\n",
      "[t-SNE] Computed conditional probabilities for sample 13000 / 13120\n",
      "[t-SNE] Computed conditional probabilities for sample 13120 / 13120\n",
      "[t-SNE] Mean sigma: 1.162858\n",
      "[t-SNE] Computed conditional probabilities in 0.304s\n",
      "[t-SNE] Iteration 50: error = 98.6659470, gradient norm = 0.0000004 (50 iterations in 5.220s)\n",
      "[t-SNE] Iteration 100: error = 98.6668320, gradient norm = 0.0000000 (50 iterations in 2.452s)\n",
      "[t-SNE] Iteration 100: gradient norm 0.000000. Finished.\n",
      "[t-SNE] KL divergence after 100 iterations with early exaggeration: 98.666832\n",
      "[t-SNE] Iteration 150: error = 5.7261510, gradient norm = 0.0005694 (50 iterations in 8.175s)\n",
      "[t-SNE] Iteration 200: error = 5.0301042, gradient norm = 0.0007281 (50 iterations in 6.351s)\n",
      "[t-SNE] Iteration 250: error = 4.9025760, gradient norm = 0.0003869 (50 iterations in 3.919s)\n",
      "[t-SNE] Iteration 300: error = 4.8154945, gradient norm = 0.0002760 (50 iterations in 3.888s)\n",
      "[t-SNE] Iteration 350: error = 4.7499523, gradient norm = 0.0002062 (50 iterations in 3.888s)\n",
      "[t-SNE] Iteration 400: error = 4.6980066, gradient norm = 0.0001609 (50 iterations in 4.103s)\n",
      "[t-SNE] Iteration 450: error = 4.6546946, gradient norm = 0.0001319 (50 iterations in 3.947s)\n",
      "[t-SNE] Iteration 500: error = 4.6183238, gradient norm = 0.0001114 (50 iterations in 3.966s)\n",
      "[t-SNE] Iteration 550: error = 4.5878167, gradient norm = 0.0000965 (50 iterations in 3.996s)\n",
      "[t-SNE] Iteration 600: error = 4.5623088, gradient norm = 0.0000831 (50 iterations in 4.094s)\n",
      "[t-SNE] Iteration 650: error = 4.5403419, gradient norm = 0.0000729 (50 iterations in 4.105s)\n",
      "[t-SNE] Iteration 700: error = 4.5217342, gradient norm = 0.0000644 (50 iterations in 4.406s)\n",
      "[t-SNE] Iteration 750: error = 4.5061183, gradient norm = 0.0000598 (50 iterations in 4.050s)\n",
      "[t-SNE] Iteration 800: error = 4.4925494, gradient norm = 0.0000536 (50 iterations in 4.210s)\n",
      "[t-SNE] Iteration 850: error = 4.4806108, gradient norm = 0.0000480 (50 iterations in 4.187s)\n",
      "[t-SNE] Iteration 900: error = 4.4699101, gradient norm = 0.0000433 (50 iterations in 4.598s)\n",
      "[t-SNE] Iteration 950: error = 4.4604521, gradient norm = 0.0000413 (50 iterations in 4.206s)\n",
      "[t-SNE] Iteration 1000: error = 4.4523921, gradient norm = 0.0000403 (50 iterations in 4.137s)\n",
      "[t-SNE] KL divergence after 1000 iterations: 4.452392\n"
     ]
    }
   ],
   "source": [
    "tsne = TSNE(n_components=2, init='pca', random_state=42, verbose=2)\n",
    "reduced = tsne.fit_transform(embedding_matrix.cpu())"
   ]
  },
  {
   "cell_type": "code",
   "execution_count": 75,
   "metadata": {},
   "outputs": [],
   "source": [
    "top_words = [a for a,_ in top_sorted_freq]"
   ]
  },
  {
   "cell_type": "code",
   "execution_count": 76,
   "metadata": {},
   "outputs": [],
   "source": [
    "inds = [word2index[word] for word in top_words]\n",
    "x_coords = [coords[0] for coords in reduced[inds]]\n",
    "y_coords = [coords[1] for coords in reduced[inds]]"
   ]
  },
  {
   "cell_type": "code",
   "execution_count": 85,
   "metadata": {},
   "outputs": [
    {
     "data": {
      "image/png": "[encoded data removed]",
      "text/plain": [
       "<Figure size 1080x1080 with 1 Axes>"
      ]
     },
     "metadata": {
      "needs_background": "light"
     },
     "output_type": "display_data"
    }
   ],
   "source": [
    "plt.figure(figsize=(15, 15))\n",
    "for (x, y, word) in zip(x_coords, y_coords, top_words):\n",
    "    plt.scatter(x, y, marker='.', color='blue')\n",
    "    plt.text(x+0.01, y+0.01, word, fontsize=9)\n",
    "plt.show()"
   ]
  }
 ],
 "metadata": {
  "kernelspec": {
   "display_name": "Python 3",
   "language": "python",
   "name": "python3"
  },
  "language_info": {
   "codemirror_mode": {
    "name": "ipython",
    "version": 3
   },
   "file_extension": ".py",
   "mimetype": "text/x-python",
   "name": "python",
   "nbconvert_exporter": "python",
   "pygments_lexer": "ipython3",
   "version": "3.6.9"
  }
 },
 "nbformat": 4,
 "nbformat_minor": 4
}
